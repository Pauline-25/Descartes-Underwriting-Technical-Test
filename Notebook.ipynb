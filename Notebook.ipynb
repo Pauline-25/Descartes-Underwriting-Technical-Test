{
  "cells": [
    {
      "cell_type": "markdown",
      "metadata": {},
      "source": [
        "First, let's import our data and the modules we need <br> \n",
        "* ``numpy``, which serves as the fundamental library for array calculation.\n",
        "* ``pandas``, which allows the processing of data sets in different formats, including csv.\n",
        "* ``matplotlib`` and ``seaborn``, to create different graphs.\n",
        "* ``scipy``, which will allow us to carry out statistical analysis more easily.\n",
        "* ``scikit-learn`` for the Machine Learning part."
      ]
    },
    {
      "cell_type": "code",
      "execution_count": 1,
      "metadata": {
        "id": "o0Evk6HcG3L4"
      },
      "outputs": [
        {
          "name": "stderr",
          "output_type": "stream",
          "text": [
            "C:\\Users\\pauli\\AppData\\Local\\Programs\\Python\\Python37\\lib\\site-packages\\numpy\\_distributor_init.py:32: UserWarning: loaded more than 1 DLL from .libs:\n",
            "C:\\Users\\pauli\\AppData\\Local\\Programs\\Python\\Python37\\lib\\site-packages\\numpy\\.libs\\libopenblas.TXA6YQSD3GCQQC22GEQ54J2UDCXDXHWN.gfortran-win_amd64.dll\n",
            "C:\\Users\\pauli\\AppData\\Local\\Programs\\Python\\Python37\\lib\\site-packages\\numpy\\.libs\\libopenblas.XWYDX2IKJW2NMTWSFYNGFUWKQU3LYTCZ.gfortran-win_amd64.dll\n",
            "  stacklevel=1)\n"
          ]
        }
      ],
      "source": [
        "import numpy as np\n",
        "import pandas as pd\n",
        "import matplotlib.pyplot as plt\n",
        "import seaborn as sns\n",
        "import sklearn\n",
        "import warnings\n",
        "from IPython.display import display, Math, Latex\n",
        "\n",
        "#Remove warnings\n",
        "warnings.filterwarnings(\"ignore\")"
      ]
    },
    {
      "cell_type": "code",
      "execution_count": 2,
      "metadata": {
        "colab": {
          "base_uri": "https://localhost:8080/",
          "height": 110
        },
        "id": "NVe72mStg0dA",
        "outputId": "b939430b-6381-43b7-a561-1e39aecd3c35"
      },
      "outputs": [
        {
          "data": {
            "text/html": [
              "<div>\n",
              "<style scoped>\n",
              "    .dataframe tbody tr th:only-of-type {\n",
              "        vertical-align: middle;\n",
              "    }\n",
              "\n",
              "    .dataframe tbody tr th {\n",
              "        vertical-align: top;\n",
              "    }\n",
              "\n",
              "    .dataframe thead th {\n",
              "        text-align: right;\n",
              "    }\n",
              "</style>\n",
              "<table border=\"1\" class=\"dataframe\">\n",
              "  <thead>\n",
              "    <tr style=\"text-align: right;\">\n",
              "      <th></th>\n",
              "      <th>INDEX</th>\n",
              "      <th>TARGET_FLAG</th>\n",
              "      <th>TARGET_AMT</th>\n",
              "      <th>KIDSDRIV</th>\n",
              "      <th>AGE</th>\n",
              "      <th>HOMEKIDS</th>\n",
              "      <th>YOJ</th>\n",
              "      <th>INCOME</th>\n",
              "      <th>PARENT1</th>\n",
              "      <th>HOME_VAL</th>\n",
              "      <th>...</th>\n",
              "      <th>BLUEBOOK</th>\n",
              "      <th>TIF</th>\n",
              "      <th>CAR_TYPE</th>\n",
              "      <th>RED_CAR</th>\n",
              "      <th>OLDCLAIM</th>\n",
              "      <th>CLM_FREQ</th>\n",
              "      <th>REVOKED</th>\n",
              "      <th>MVR_PTS</th>\n",
              "      <th>CAR_AGE</th>\n",
              "      <th>URBANICITY</th>\n",
              "    </tr>\n",
              "  </thead>\n",
              "  <tbody>\n",
              "    <tr>\n",
              "      <th>0</th>\n",
              "      <td>1</td>\n",
              "      <td>0</td>\n",
              "      <td>0.0</td>\n",
              "      <td>0</td>\n",
              "      <td>60.0</td>\n",
              "      <td>0</td>\n",
              "      <td>11.0</td>\n",
              "      <td>$67,349</td>\n",
              "      <td>No</td>\n",
              "      <td>$0</td>\n",
              "      <td>...</td>\n",
              "      <td>$14,230</td>\n",
              "      <td>11</td>\n",
              "      <td>Minivan</td>\n",
              "      <td>yes</td>\n",
              "      <td>$4,461</td>\n",
              "      <td>2</td>\n",
              "      <td>No</td>\n",
              "      <td>3</td>\n",
              "      <td>18.0</td>\n",
              "      <td>Highly Urban/ Urban</td>\n",
              "    </tr>\n",
              "    <tr>\n",
              "      <th>1</th>\n",
              "      <td>2</td>\n",
              "      <td>0</td>\n",
              "      <td>0.0</td>\n",
              "      <td>0</td>\n",
              "      <td>43.0</td>\n",
              "      <td>0</td>\n",
              "      <td>11.0</td>\n",
              "      <td>$91,449</td>\n",
              "      <td>No</td>\n",
              "      <td>$257,252</td>\n",
              "      <td>...</td>\n",
              "      <td>$14,940</td>\n",
              "      <td>1</td>\n",
              "      <td>Minivan</td>\n",
              "      <td>yes</td>\n",
              "      <td>$0</td>\n",
              "      <td>0</td>\n",
              "      <td>No</td>\n",
              "      <td>0</td>\n",
              "      <td>1.0</td>\n",
              "      <td>Highly Urban/ Urban</td>\n",
              "    </tr>\n",
              "    <tr>\n",
              "      <th>2</th>\n",
              "      <td>4</td>\n",
              "      <td>0</td>\n",
              "      <td>0.0</td>\n",
              "      <td>0</td>\n",
              "      <td>35.0</td>\n",
              "      <td>1</td>\n",
              "      <td>10.0</td>\n",
              "      <td>$16,039</td>\n",
              "      <td>No</td>\n",
              "      <td>$124,191</td>\n",
              "      <td>...</td>\n",
              "      <td>$4,010</td>\n",
              "      <td>4</td>\n",
              "      <td>z_SUV</td>\n",
              "      <td>no</td>\n",
              "      <td>$38,690</td>\n",
              "      <td>2</td>\n",
              "      <td>No</td>\n",
              "      <td>3</td>\n",
              "      <td>10.0</td>\n",
              "      <td>Highly Urban/ Urban</td>\n",
              "    </tr>\n",
              "    <tr>\n",
              "      <th>3</th>\n",
              "      <td>5</td>\n",
              "      <td>0</td>\n",
              "      <td>0.0</td>\n",
              "      <td>0</td>\n",
              "      <td>51.0</td>\n",
              "      <td>0</td>\n",
              "      <td>14.0</td>\n",
              "      <td>NaN</td>\n",
              "      <td>No</td>\n",
              "      <td>$306,251</td>\n",
              "      <td>...</td>\n",
              "      <td>$15,440</td>\n",
              "      <td>7</td>\n",
              "      <td>Minivan</td>\n",
              "      <td>yes</td>\n",
              "      <td>$0</td>\n",
              "      <td>0</td>\n",
              "      <td>No</td>\n",
              "      <td>0</td>\n",
              "      <td>6.0</td>\n",
              "      <td>Highly Urban/ Urban</td>\n",
              "    </tr>\n",
              "    <tr>\n",
              "      <th>4</th>\n",
              "      <td>6</td>\n",
              "      <td>0</td>\n",
              "      <td>0.0</td>\n",
              "      <td>0</td>\n",
              "      <td>50.0</td>\n",
              "      <td>0</td>\n",
              "      <td>NaN</td>\n",
              "      <td>$114,986</td>\n",
              "      <td>No</td>\n",
              "      <td>$243,925</td>\n",
              "      <td>...</td>\n",
              "      <td>$18,000</td>\n",
              "      <td>1</td>\n",
              "      <td>z_SUV</td>\n",
              "      <td>no</td>\n",
              "      <td>$19,217</td>\n",
              "      <td>2</td>\n",
              "      <td>Yes</td>\n",
              "      <td>3</td>\n",
              "      <td>17.0</td>\n",
              "      <td>Highly Urban/ Urban</td>\n",
              "    </tr>\n",
              "  </tbody>\n",
              "</table>\n",
              "<p>5 rows × 26 columns</p>\n",
              "</div>"
            ],
            "text/plain": [
              "   INDEX  TARGET_FLAG  TARGET_AMT  KIDSDRIV   AGE  HOMEKIDS   YOJ     INCOME  \\\n",
              "0      1            0         0.0         0  60.0         0  11.0   $67,349    \n",
              "1      2            0         0.0         0  43.0         0  11.0   $91,449    \n",
              "2      4            0         0.0         0  35.0         1  10.0   $16,039    \n",
              "3      5            0         0.0         0  51.0         0  14.0        NaN   \n",
              "4      6            0         0.0         0  50.0         0   NaN  $114,986    \n",
              "\n",
              "  PARENT1   HOME_VAL  ...  BLUEBOOK TIF CAR_TYPE RED_CAR  OLDCLAIM CLM_FREQ  \\\n",
              "0      No        $0   ...  $14,230   11  Minivan     yes   $4,461         2   \n",
              "1      No  $257,252   ...  $14,940    1  Minivan     yes       $0         0   \n",
              "2      No  $124,191   ...   $4,010    4    z_SUV      no  $38,690         2   \n",
              "3      No  $306,251   ...  $15,440    7  Minivan     yes       $0         0   \n",
              "4      No  $243,925   ...  $18,000    1    z_SUV      no  $19,217         2   \n",
              "\n",
              "  REVOKED  MVR_PTS CAR_AGE           URBANICITY  \n",
              "0      No        3    18.0  Highly Urban/ Urban  \n",
              "1      No        0     1.0  Highly Urban/ Urban  \n",
              "2      No        3    10.0  Highly Urban/ Urban  \n",
              "3      No        0     6.0  Highly Urban/ Urban  \n",
              "4     Yes        3    17.0  Highly Urban/ Urban  \n",
              "\n",
              "[5 rows x 26 columns]"
            ]
          },
          "execution_count": 2,
          "metadata": {},
          "output_type": "execute_result"
        }
      ],
      "source": [
        "df = pd.read_csv(\"data\\train_auto.csv\")\n",
        "df.head()"
      ]
    },
    {
      "cell_type": "markdown",
      "metadata": {
        "id": "epsC7JcxGZKt"
      },
      "source": [
        "# Data Analysis"
      ]
    },
    {
      "cell_type": "markdown",
      "metadata": {
        "id": "QSO0R8zvGhWV"
      },
      "source": [
        "Objectives:\n",
        "* Take a closer look at the data\n",
        "* Analyze the dependencies between the variables\n",
        "* Process the data set"
      ]
    },
    {
      "cell_type": "markdown",
      "metadata": {
        "id": "M7x9DM8XJVFs"
      },
      "source": [
        "## First look at our data"
      ]
    },
    {
      "cell_type": "markdown",
      "metadata": {},
      "source": [
        "We see that we have to modify some of our data."
      ]
    },
    {
      "cell_type": "markdown",
      "metadata": {},
      "source": [
        "We need to remove the dollars. Let's look at the columns INCOME. The majority of the data begin with a dollar, but some of them don't."
      ]
    },
    {
      "cell_type": "code",
      "execution_count": 3,
      "metadata": {},
      "outputs": [
        {
          "data": {
            "text/plain": [
              "<class 'str'>      7716\n",
              "<class 'float'>     445\n",
              "dtype: int64"
            ]
          },
          "execution_count": 3,
          "metadata": {},
          "output_type": "execute_result"
        }
      ],
      "source": [
        "df.apply(lambda row : type(row['INCOME']),axis=1).value_counts()"
      ]
    },
    {
      "cell_type": "code",
      "execution_count": 4,
      "metadata": {},
      "outputs": [
        {
          "data": {
            "text/plain": [
              "Series([], Name: INCOME, dtype: int64)"
            ]
          },
          "execution_count": 4,
          "metadata": {},
          "output_type": "execute_result"
        }
      ],
      "source": [
        "df[df.INCOME.map(type) == float]['INCOME'].value_counts()"
      ]
    },
    {
      "cell_type": "markdown",
      "metadata": {},
      "source": [
        "Those which don't begin with a dollar are `NaN`."
      ]
    },
    {
      "cell_type": "code",
      "execution_count": 5,
      "metadata": {},
      "outputs": [],
      "source": [
        "def from_dollar_string_to_float(row,column_name):\n",
        "    if type(row[column_name])== str :\n",
        "        return float(row[column_name][1:].replace(\" \", \"\").replace(\",\",\"\"))  \n",
        "    else :\n",
        "        return row[column_name]\n",
        "\n",
        "for column_name in ['INCOME','HOME_VAL','BLUEBOOK','OLDCLAIM'] :\n",
        "    df[column_name]=df.apply(lambda row : from_dollar_string_to_float(row,column_name),axis=1)\n",
        "\n",
        "del(column_name)"
      ]
    },
    {
      "cell_type": "code",
      "execution_count": 6,
      "metadata": {
        "colab": {
          "base_uri": "https://localhost:8080/",
          "height": 294
        },
        "id": "z8tyORRuHb4M",
        "outputId": "8a4a5876-bd73-4f6c-bb41-694f4714304e"
      },
      "outputs": [
        {
          "data": {
            "text/html": [
              "<div>\n",
              "<style scoped>\n",
              "    .dataframe tbody tr th:only-of-type {\n",
              "        vertical-align: middle;\n",
              "    }\n",
              "\n",
              "    .dataframe tbody tr th {\n",
              "        vertical-align: top;\n",
              "    }\n",
              "\n",
              "    .dataframe thead th {\n",
              "        text-align: right;\n",
              "    }\n",
              "</style>\n",
              "<table border=\"1\" class=\"dataframe\">\n",
              "  <thead>\n",
              "    <tr style=\"text-align: right;\">\n",
              "      <th></th>\n",
              "      <th>INDEX</th>\n",
              "      <th>TARGET_FLAG</th>\n",
              "      <th>TARGET_AMT</th>\n",
              "      <th>KIDSDRIV</th>\n",
              "      <th>AGE</th>\n",
              "      <th>HOMEKIDS</th>\n",
              "      <th>YOJ</th>\n",
              "      <th>INCOME</th>\n",
              "      <th>HOME_VAL</th>\n",
              "      <th>TRAVTIME</th>\n",
              "      <th>BLUEBOOK</th>\n",
              "      <th>TIF</th>\n",
              "      <th>OLDCLAIM</th>\n",
              "      <th>CLM_FREQ</th>\n",
              "      <th>MVR_PTS</th>\n",
              "      <th>CAR_AGE</th>\n",
              "    </tr>\n",
              "  </thead>\n",
              "  <tbody>\n",
              "    <tr>\n",
              "      <th>count</th>\n",
              "      <td>8161.000000</td>\n",
              "      <td>8161.000000</td>\n",
              "      <td>8161.000000</td>\n",
              "      <td>8161.000000</td>\n",
              "      <td>8155.000000</td>\n",
              "      <td>8161.000000</td>\n",
              "      <td>7707.000000</td>\n",
              "      <td>7716.000000</td>\n",
              "      <td>7697.000000</td>\n",
              "      <td>8161.000000</td>\n",
              "      <td>8161.000000</td>\n",
              "      <td>8161.000000</td>\n",
              "      <td>8161.000000</td>\n",
              "      <td>8161.000000</td>\n",
              "      <td>8161.000000</td>\n",
              "      <td>7651.000000</td>\n",
              "    </tr>\n",
              "    <tr>\n",
              "      <th>mean</th>\n",
              "      <td>5151.867663</td>\n",
              "      <td>0.263816</td>\n",
              "      <td>1504.324648</td>\n",
              "      <td>0.171057</td>\n",
              "      <td>44.790313</td>\n",
              "      <td>0.721235</td>\n",
              "      <td>10.499286</td>\n",
              "      <td>61898.094609</td>\n",
              "      <td>154867.289723</td>\n",
              "      <td>33.485725</td>\n",
              "      <td>15709.899522</td>\n",
              "      <td>5.351305</td>\n",
              "      <td>4037.076216</td>\n",
              "      <td>0.798554</td>\n",
              "      <td>1.695503</td>\n",
              "      <td>8.328323</td>\n",
              "    </tr>\n",
              "    <tr>\n",
              "      <th>std</th>\n",
              "      <td>2978.893962</td>\n",
              "      <td>0.440728</td>\n",
              "      <td>4704.026930</td>\n",
              "      <td>0.511534</td>\n",
              "      <td>8.627589</td>\n",
              "      <td>1.116323</td>\n",
              "      <td>4.092474</td>\n",
              "      <td>47572.682808</td>\n",
              "      <td>129123.774574</td>\n",
              "      <td>15.908333</td>\n",
              "      <td>8419.734075</td>\n",
              "      <td>4.146635</td>\n",
              "      <td>8777.139104</td>\n",
              "      <td>1.158453</td>\n",
              "      <td>2.147112</td>\n",
              "      <td>5.700742</td>\n",
              "    </tr>\n",
              "    <tr>\n",
              "      <th>min</th>\n",
              "      <td>1.000000</td>\n",
              "      <td>0.000000</td>\n",
              "      <td>0.000000</td>\n",
              "      <td>0.000000</td>\n",
              "      <td>16.000000</td>\n",
              "      <td>0.000000</td>\n",
              "      <td>0.000000</td>\n",
              "      <td>0.000000</td>\n",
              "      <td>0.000000</td>\n",
              "      <td>5.000000</td>\n",
              "      <td>1500.000000</td>\n",
              "      <td>1.000000</td>\n",
              "      <td>0.000000</td>\n",
              "      <td>0.000000</td>\n",
              "      <td>0.000000</td>\n",
              "      <td>-3.000000</td>\n",
              "    </tr>\n",
              "    <tr>\n",
              "      <th>25%</th>\n",
              "      <td>2559.000000</td>\n",
              "      <td>0.000000</td>\n",
              "      <td>0.000000</td>\n",
              "      <td>0.000000</td>\n",
              "      <td>39.000000</td>\n",
              "      <td>0.000000</td>\n",
              "      <td>9.000000</td>\n",
              "      <td>28097.000000</td>\n",
              "      <td>0.000000</td>\n",
              "      <td>22.000000</td>\n",
              "      <td>9280.000000</td>\n",
              "      <td>1.000000</td>\n",
              "      <td>0.000000</td>\n",
              "      <td>0.000000</td>\n",
              "      <td>0.000000</td>\n",
              "      <td>1.000000</td>\n",
              "    </tr>\n",
              "    <tr>\n",
              "      <th>50%</th>\n",
              "      <td>5133.000000</td>\n",
              "      <td>0.000000</td>\n",
              "      <td>0.000000</td>\n",
              "      <td>0.000000</td>\n",
              "      <td>45.000000</td>\n",
              "      <td>0.000000</td>\n",
              "      <td>11.000000</td>\n",
              "      <td>54028.000000</td>\n",
              "      <td>161160.000000</td>\n",
              "      <td>33.000000</td>\n",
              "      <td>14440.000000</td>\n",
              "      <td>4.000000</td>\n",
              "      <td>0.000000</td>\n",
              "      <td>0.000000</td>\n",
              "      <td>1.000000</td>\n",
              "      <td>8.000000</td>\n",
              "    </tr>\n",
              "    <tr>\n",
              "      <th>75%</th>\n",
              "      <td>7745.000000</td>\n",
              "      <td>1.000000</td>\n",
              "      <td>1036.000000</td>\n",
              "      <td>0.000000</td>\n",
              "      <td>51.000000</td>\n",
              "      <td>1.000000</td>\n",
              "      <td>13.000000</td>\n",
              "      <td>85986.000000</td>\n",
              "      <td>238724.000000</td>\n",
              "      <td>44.000000</td>\n",
              "      <td>20850.000000</td>\n",
              "      <td>7.000000</td>\n",
              "      <td>4636.000000</td>\n",
              "      <td>2.000000</td>\n",
              "      <td>3.000000</td>\n",
              "      <td>12.000000</td>\n",
              "    </tr>\n",
              "    <tr>\n",
              "      <th>max</th>\n",
              "      <td>10302.000000</td>\n",
              "      <td>1.000000</td>\n",
              "      <td>107586.136200</td>\n",
              "      <td>4.000000</td>\n",
              "      <td>81.000000</td>\n",
              "      <td>5.000000</td>\n",
              "      <td>23.000000</td>\n",
              "      <td>367030.000000</td>\n",
              "      <td>885282.000000</td>\n",
              "      <td>142.000000</td>\n",
              "      <td>69740.000000</td>\n",
              "      <td>25.000000</td>\n",
              "      <td>57037.000000</td>\n",
              "      <td>5.000000</td>\n",
              "      <td>13.000000</td>\n",
              "      <td>28.000000</td>\n",
              "    </tr>\n",
              "  </tbody>\n",
              "</table>\n",
              "</div>"
            ],
            "text/plain": [
              "              INDEX  TARGET_FLAG     TARGET_AMT     KIDSDRIV          AGE  \\\n",
              "count   8161.000000  8161.000000    8161.000000  8161.000000  8155.000000   \n",
              "mean    5151.867663     0.263816    1504.324648     0.171057    44.790313   \n",
              "std     2978.893962     0.440728    4704.026930     0.511534     8.627589   \n",
              "min        1.000000     0.000000       0.000000     0.000000    16.000000   \n",
              "25%     2559.000000     0.000000       0.000000     0.000000    39.000000   \n",
              "50%     5133.000000     0.000000       0.000000     0.000000    45.000000   \n",
              "75%     7745.000000     1.000000    1036.000000     0.000000    51.000000   \n",
              "max    10302.000000     1.000000  107586.136200     4.000000    81.000000   \n",
              "\n",
              "          HOMEKIDS          YOJ         INCOME       HOME_VAL     TRAVTIME  \\\n",
              "count  8161.000000  7707.000000    7716.000000    7697.000000  8161.000000   \n",
              "mean      0.721235    10.499286   61898.094609  154867.289723    33.485725   \n",
              "std       1.116323     4.092474   47572.682808  129123.774574    15.908333   \n",
              "min       0.000000     0.000000       0.000000       0.000000     5.000000   \n",
              "25%       0.000000     9.000000   28097.000000       0.000000    22.000000   \n",
              "50%       0.000000    11.000000   54028.000000  161160.000000    33.000000   \n",
              "75%       1.000000    13.000000   85986.000000  238724.000000    44.000000   \n",
              "max       5.000000    23.000000  367030.000000  885282.000000   142.000000   \n",
              "\n",
              "           BLUEBOOK          TIF      OLDCLAIM     CLM_FREQ      MVR_PTS  \\\n",
              "count   8161.000000  8161.000000   8161.000000  8161.000000  8161.000000   \n",
              "mean   15709.899522     5.351305   4037.076216     0.798554     1.695503   \n",
              "std     8419.734075     4.146635   8777.139104     1.158453     2.147112   \n",
              "min     1500.000000     1.000000      0.000000     0.000000     0.000000   \n",
              "25%     9280.000000     1.000000      0.000000     0.000000     0.000000   \n",
              "50%    14440.000000     4.000000      0.000000     0.000000     1.000000   \n",
              "75%    20850.000000     7.000000   4636.000000     2.000000     3.000000   \n",
              "max    69740.000000    25.000000  57037.000000     5.000000    13.000000   \n",
              "\n",
              "           CAR_AGE  \n",
              "count  7651.000000  \n",
              "mean      8.328323  \n",
              "std       5.700742  \n",
              "min      -3.000000  \n",
              "25%       1.000000  \n",
              "50%       8.000000  \n",
              "75%      12.000000  \n",
              "max      28.000000  "
            ]
          },
          "execution_count": 6,
          "metadata": {},
          "output_type": "execute_result"
        }
      ],
      "source": [
        "# statistiques sur les données numériques\n",
        "df.describe()"
      ]
    },
    {
      "cell_type": "markdown",
      "metadata": {},
      "source": [
        "Let's look at string variables."
      ]
    },
    {
      "cell_type": "code",
      "execution_count": 7,
      "metadata": {},
      "outputs": [
        {
          "data": {
            "text/plain": [
              "Yes     4894\n",
              "z_No    3267\n",
              "Name: MSTATUS, dtype: int64"
            ]
          },
          "execution_count": 7,
          "metadata": {},
          "output_type": "execute_result"
        }
      ],
      "source": [
        "df['MSTATUS'].value_counts()"
      ]
    },
    {
      "cell_type": "code",
      "execution_count": 8,
      "metadata": {},
      "outputs": [
        {
          "data": {
            "text/plain": [
              "z_F    4375\n",
              "M      3786\n",
              "Name: SEX, dtype: int64"
            ]
          },
          "execution_count": 8,
          "metadata": {},
          "output_type": "execute_result"
        }
      ],
      "source": [
        "df['SEX'].value_counts()"
      ]
    },
    {
      "cell_type": "markdown",
      "metadata": {},
      "source": [
        "The \"z_\" is weird, lets' remove it. When we begin with Machine Learning, we will replace binary variables with 0 and 1. We keep it now for the further visualisation."
      ]
    },
    {
      "cell_type": "code",
      "execution_count": 9,
      "metadata": {},
      "outputs": [],
      "source": [
        "def remove_z(row,column_name):\n",
        "    if type(row[column_name]) == str and row[column_name][:2] == \"z_\":\n",
        "        return row[column_name][2:]\n",
        "    return row[column_name]\n",
        "\n",
        "for column_name in ['SEX','EDUCATION','MSTATUS','JOB','CAR_TYPE','URBANICITY']:\n",
        "    df[column_name] = df.apply(lambda row : remove_z(row,column_name),axis=1)\n",
        "\n",
        "del(column_name)"
      ]
    },
    {
      "cell_type": "markdown",
      "metadata": {
        "id": "SPQMAtReKbJy"
      },
      "source": [
        "## Replace outliers or missing values"
      ]
    },
    {
      "cell_type": "markdown",
      "metadata": {
        "id": "QYUK4tXtKllz"
      },
      "source": [
        "We are going to see that we have some missing values in our dataset, and some outliers."
      ]
    },
    {
      "cell_type": "code",
      "execution_count": 10,
      "metadata": {},
      "outputs": [
        {
          "data": {
            "text/html": [
              "<div>\n",
              "<style scoped>\n",
              "    .dataframe tbody tr th:only-of-type {\n",
              "        vertical-align: middle;\n",
              "    }\n",
              "\n",
              "    .dataframe tbody tr th {\n",
              "        vertical-align: top;\n",
              "    }\n",
              "\n",
              "    .dataframe thead th {\n",
              "        text-align: right;\n",
              "    }\n",
              "</style>\n",
              "<table border=\"1\" class=\"dataframe\">\n",
              "  <thead>\n",
              "    <tr style=\"text-align: right;\">\n",
              "      <th></th>\n",
              "      <th>INDEX</th>\n",
              "      <th>TARGET_FLAG</th>\n",
              "      <th>TARGET_AMT</th>\n",
              "      <th>KIDSDRIV</th>\n",
              "      <th>AGE</th>\n",
              "      <th>HOMEKIDS</th>\n",
              "      <th>YOJ</th>\n",
              "      <th>INCOME</th>\n",
              "      <th>HOME_VAL</th>\n",
              "      <th>TRAVTIME</th>\n",
              "      <th>BLUEBOOK</th>\n",
              "      <th>TIF</th>\n",
              "      <th>OLDCLAIM</th>\n",
              "      <th>CLM_FREQ</th>\n",
              "      <th>MVR_PTS</th>\n",
              "      <th>CAR_AGE</th>\n",
              "    </tr>\n",
              "  </thead>\n",
              "  <tbody>\n",
              "    <tr>\n",
              "      <th>count</th>\n",
              "      <td>8161.000000</td>\n",
              "      <td>8161.000000</td>\n",
              "      <td>8161.000000</td>\n",
              "      <td>8161.000000</td>\n",
              "      <td>8155.000000</td>\n",
              "      <td>8161.000000</td>\n",
              "      <td>7707.000000</td>\n",
              "      <td>7716.000000</td>\n",
              "      <td>7697.000000</td>\n",
              "      <td>8161.000000</td>\n",
              "      <td>8161.000000</td>\n",
              "      <td>8161.000000</td>\n",
              "      <td>8161.000000</td>\n",
              "      <td>8161.000000</td>\n",
              "      <td>8161.000000</td>\n",
              "      <td>7651.000000</td>\n",
              "    </tr>\n",
              "    <tr>\n",
              "      <th>mean</th>\n",
              "      <td>5151.867663</td>\n",
              "      <td>0.263816</td>\n",
              "      <td>1504.324648</td>\n",
              "      <td>0.171057</td>\n",
              "      <td>44.790313</td>\n",
              "      <td>0.721235</td>\n",
              "      <td>10.499286</td>\n",
              "      <td>61898.094609</td>\n",
              "      <td>154867.289723</td>\n",
              "      <td>33.485725</td>\n",
              "      <td>15709.899522</td>\n",
              "      <td>5.351305</td>\n",
              "      <td>4037.076216</td>\n",
              "      <td>0.798554</td>\n",
              "      <td>1.695503</td>\n",
              "      <td>8.328323</td>\n",
              "    </tr>\n",
              "    <tr>\n",
              "      <th>std</th>\n",
              "      <td>2978.893962</td>\n",
              "      <td>0.440728</td>\n",
              "      <td>4704.026930</td>\n",
              "      <td>0.511534</td>\n",
              "      <td>8.627589</td>\n",
              "      <td>1.116323</td>\n",
              "      <td>4.092474</td>\n",
              "      <td>47572.682808</td>\n",
              "      <td>129123.774574</td>\n",
              "      <td>15.908333</td>\n",
              "      <td>8419.734075</td>\n",
              "      <td>4.146635</td>\n",
              "      <td>8777.139104</td>\n",
              "      <td>1.158453</td>\n",
              "      <td>2.147112</td>\n",
              "      <td>5.700742</td>\n",
              "    </tr>\n",
              "    <tr>\n",
              "      <th>min</th>\n",
              "      <td>1.000000</td>\n",
              "      <td>0.000000</td>\n",
              "      <td>0.000000</td>\n",
              "      <td>0.000000</td>\n",
              "      <td>16.000000</td>\n",
              "      <td>0.000000</td>\n",
              "      <td>0.000000</td>\n",
              "      <td>0.000000</td>\n",
              "      <td>0.000000</td>\n",
              "      <td>5.000000</td>\n",
              "      <td>1500.000000</td>\n",
              "      <td>1.000000</td>\n",
              "      <td>0.000000</td>\n",
              "      <td>0.000000</td>\n",
              "      <td>0.000000</td>\n",
              "      <td>-3.000000</td>\n",
              "    </tr>\n",
              "    <tr>\n",
              "      <th>25%</th>\n",
              "      <td>2559.000000</td>\n",
              "      <td>0.000000</td>\n",
              "      <td>0.000000</td>\n",
              "      <td>0.000000</td>\n",
              "      <td>39.000000</td>\n",
              "      <td>0.000000</td>\n",
              "      <td>9.000000</td>\n",
              "      <td>28097.000000</td>\n",
              "      <td>0.000000</td>\n",
              "      <td>22.000000</td>\n",
              "      <td>9280.000000</td>\n",
              "      <td>1.000000</td>\n",
              "      <td>0.000000</td>\n",
              "      <td>0.000000</td>\n",
              "      <td>0.000000</td>\n",
              "      <td>1.000000</td>\n",
              "    </tr>\n",
              "    <tr>\n",
              "      <th>50%</th>\n",
              "      <td>5133.000000</td>\n",
              "      <td>0.000000</td>\n",
              "      <td>0.000000</td>\n",
              "      <td>0.000000</td>\n",
              "      <td>45.000000</td>\n",
              "      <td>0.000000</td>\n",
              "      <td>11.000000</td>\n",
              "      <td>54028.000000</td>\n",
              "      <td>161160.000000</td>\n",
              "      <td>33.000000</td>\n",
              "      <td>14440.000000</td>\n",
              "      <td>4.000000</td>\n",
              "      <td>0.000000</td>\n",
              "      <td>0.000000</td>\n",
              "      <td>1.000000</td>\n",
              "      <td>8.000000</td>\n",
              "    </tr>\n",
              "    <tr>\n",
              "      <th>75%</th>\n",
              "      <td>7745.000000</td>\n",
              "      <td>1.000000</td>\n",
              "      <td>1036.000000</td>\n",
              "      <td>0.000000</td>\n",
              "      <td>51.000000</td>\n",
              "      <td>1.000000</td>\n",
              "      <td>13.000000</td>\n",
              "      <td>85986.000000</td>\n",
              "      <td>238724.000000</td>\n",
              "      <td>44.000000</td>\n",
              "      <td>20850.000000</td>\n",
              "      <td>7.000000</td>\n",
              "      <td>4636.000000</td>\n",
              "      <td>2.000000</td>\n",
              "      <td>3.000000</td>\n",
              "      <td>12.000000</td>\n",
              "    </tr>\n",
              "    <tr>\n",
              "      <th>max</th>\n",
              "      <td>10302.000000</td>\n",
              "      <td>1.000000</td>\n",
              "      <td>107586.136200</td>\n",
              "      <td>4.000000</td>\n",
              "      <td>81.000000</td>\n",
              "      <td>5.000000</td>\n",
              "      <td>23.000000</td>\n",
              "      <td>367030.000000</td>\n",
              "      <td>885282.000000</td>\n",
              "      <td>142.000000</td>\n",
              "      <td>69740.000000</td>\n",
              "      <td>25.000000</td>\n",
              "      <td>57037.000000</td>\n",
              "      <td>5.000000</td>\n",
              "      <td>13.000000</td>\n",
              "      <td>28.000000</td>\n",
              "    </tr>\n",
              "  </tbody>\n",
              "</table>\n",
              "</div>"
            ],
            "text/plain": [
              "              INDEX  TARGET_FLAG     TARGET_AMT     KIDSDRIV          AGE  \\\n",
              "count   8161.000000  8161.000000    8161.000000  8161.000000  8155.000000   \n",
              "mean    5151.867663     0.263816    1504.324648     0.171057    44.790313   \n",
              "std     2978.893962     0.440728    4704.026930     0.511534     8.627589   \n",
              "min        1.000000     0.000000       0.000000     0.000000    16.000000   \n",
              "25%     2559.000000     0.000000       0.000000     0.000000    39.000000   \n",
              "50%     5133.000000     0.000000       0.000000     0.000000    45.000000   \n",
              "75%     7745.000000     1.000000    1036.000000     0.000000    51.000000   \n",
              "max    10302.000000     1.000000  107586.136200     4.000000    81.000000   \n",
              "\n",
              "          HOMEKIDS          YOJ         INCOME       HOME_VAL     TRAVTIME  \\\n",
              "count  8161.000000  7707.000000    7716.000000    7697.000000  8161.000000   \n",
              "mean      0.721235    10.499286   61898.094609  154867.289723    33.485725   \n",
              "std       1.116323     4.092474   47572.682808  129123.774574    15.908333   \n",
              "min       0.000000     0.000000       0.000000       0.000000     5.000000   \n",
              "25%       0.000000     9.000000   28097.000000       0.000000    22.000000   \n",
              "50%       0.000000    11.000000   54028.000000  161160.000000    33.000000   \n",
              "75%       1.000000    13.000000   85986.000000  238724.000000    44.000000   \n",
              "max       5.000000    23.000000  367030.000000  885282.000000   142.000000   \n",
              "\n",
              "           BLUEBOOK          TIF      OLDCLAIM     CLM_FREQ      MVR_PTS  \\\n",
              "count   8161.000000  8161.000000   8161.000000  8161.000000  8161.000000   \n",
              "mean   15709.899522     5.351305   4037.076216     0.798554     1.695503   \n",
              "std     8419.734075     4.146635   8777.139104     1.158453     2.147112   \n",
              "min     1500.000000     1.000000      0.000000     0.000000     0.000000   \n",
              "25%     9280.000000     1.000000      0.000000     0.000000     0.000000   \n",
              "50%    14440.000000     4.000000      0.000000     0.000000     1.000000   \n",
              "75%    20850.000000     7.000000   4636.000000     2.000000     3.000000   \n",
              "max    69740.000000    25.000000  57037.000000     5.000000    13.000000   \n",
              "\n",
              "           CAR_AGE  \n",
              "count  7651.000000  \n",
              "mean      8.328323  \n",
              "std       5.700742  \n",
              "min      -3.000000  \n",
              "25%       1.000000  \n",
              "50%       8.000000  \n",
              "75%      12.000000  \n",
              "max      28.000000  "
            ]
          },
          "execution_count": 10,
          "metadata": {},
          "output_type": "execute_result"
        }
      ],
      "source": [
        "df.describe()"
      ]
    },
    {
      "cell_type": "markdown",
      "metadata": {},
      "source": [
        "A car can't be -3 years old ! Let's replace outliers by NaN."
      ]
    },
    {
      "cell_type": "code",
      "execution_count": 11,
      "metadata": {},
      "outputs": [],
      "source": [
        "df[df['CAR_AGE']<0]['CAR_AGE']=np.nan"
      ]
    },
    {
      "cell_type": "markdown",
      "metadata": {},
      "source": [
        "Let's see if we have a lot of NaN."
      ]
    },
    {
      "cell_type": "code",
      "execution_count": 12,
      "metadata": {
        "colab": {
          "base_uri": "https://localhost:8080/"
        },
        "id": "vIj1zRHeJdSV",
        "outputId": "9def7fe8-e779-4efe-eb31-3ae9aec4ab3f"
      },
      "outputs": [
        {
          "data": {
            "text/plain": [
              "INDEX            0\n",
              "TARGET_FLAG      0\n",
              "TARGET_AMT       0\n",
              "KIDSDRIV         0\n",
              "AGE              6\n",
              "HOMEKIDS         0\n",
              "YOJ            454\n",
              "INCOME         445\n",
              "PARENT1          0\n",
              "HOME_VAL       464\n",
              "MSTATUS          0\n",
              "SEX              0\n",
              "EDUCATION        0\n",
              "JOB            526\n",
              "TRAVTIME         0\n",
              "CAR_USE          0\n",
              "BLUEBOOK         0\n",
              "TIF              0\n",
              "CAR_TYPE         0\n",
              "RED_CAR          0\n",
              "OLDCLAIM         0\n",
              "CLM_FREQ         0\n",
              "REVOKED          0\n",
              "MVR_PTS          0\n",
              "CAR_AGE        510\n",
              "URBANICITY       0\n",
              "dtype: int64"
            ]
          },
          "execution_count": 12,
          "metadata": {},
          "output_type": "execute_result"
        }
      ],
      "source": [
        "df.isna().sum()"
      ]
    },
    {
      "cell_type": "markdown",
      "metadata": {},
      "source": [
        "We are going to use KNN-imputer to fill those missing values. In order to do this, we must drop 'INDEX' column which is not relevant at all, and 'TARGET_FLAG', 'TARGET_AMT' because we won't have access to it. We also need to HotEncode our categorical features, since KNN-imputer can't take it into account in this form."
      ]
    },
    {
      "cell_type": "code",
      "execution_count": 13,
      "metadata": {},
      "outputs": [],
      "source": [
        "columns_to_dummy = ['EDUCATION','CAR_TYPE','URBANICITY','JOB','CAR_USE']\n",
        "columns_to_drop = ['INDEX','TARGET_FLAG','TARGET_AMT']\n",
        "\n",
        "df_for_imputer = df.drop(columns=columns_to_drop)\n",
        "df_for_imputer.replace({'Yes':1,'No':0,'M':1,'F':0,'yes':1,'no':0},inplace=True)\n",
        "df_for_imputer = pd.get_dummies(df_for_imputer,columns=columns_to_dummy)"
      ]
    },
    {
      "cell_type": "code",
      "execution_count": 14,
      "metadata": {},
      "outputs": [
        {
          "data": {
            "text/html": [
              "<div>\n",
              "<style scoped>\n",
              "    .dataframe tbody tr th:only-of-type {\n",
              "        vertical-align: middle;\n",
              "    }\n",
              "\n",
              "    .dataframe tbody tr th {\n",
              "        vertical-align: top;\n",
              "    }\n",
              "\n",
              "    .dataframe thead th {\n",
              "        text-align: right;\n",
              "    }\n",
              "</style>\n",
              "<table border=\"1\" class=\"dataframe\">\n",
              "  <thead>\n",
              "    <tr style=\"text-align: right;\">\n",
              "      <th></th>\n",
              "      <th>KIDSDRIV</th>\n",
              "      <th>AGE</th>\n",
              "      <th>HOMEKIDS</th>\n",
              "      <th>YOJ</th>\n",
              "      <th>INCOME</th>\n",
              "      <th>PARENT1</th>\n",
              "      <th>HOME_VAL</th>\n",
              "      <th>MSTATUS</th>\n",
              "      <th>SEX</th>\n",
              "      <th>TRAVTIME</th>\n",
              "      <th>...</th>\n",
              "      <th>JOB_Blue Collar</th>\n",
              "      <th>JOB_Clerical</th>\n",
              "      <th>JOB_Doctor</th>\n",
              "      <th>JOB_Home Maker</th>\n",
              "      <th>JOB_Lawyer</th>\n",
              "      <th>JOB_Manager</th>\n",
              "      <th>JOB_Professional</th>\n",
              "      <th>JOB_Student</th>\n",
              "      <th>CAR_USE_Commercial</th>\n",
              "      <th>CAR_USE_Private</th>\n",
              "    </tr>\n",
              "  </thead>\n",
              "  <tbody>\n",
              "    <tr>\n",
              "      <th>0</th>\n",
              "      <td>0</td>\n",
              "      <td>60.0</td>\n",
              "      <td>0</td>\n",
              "      <td>11.0</td>\n",
              "      <td>67349.0</td>\n",
              "      <td>0</td>\n",
              "      <td>0.0</td>\n",
              "      <td>0</td>\n",
              "      <td>1</td>\n",
              "      <td>14</td>\n",
              "      <td>...</td>\n",
              "      <td>0</td>\n",
              "      <td>0</td>\n",
              "      <td>0</td>\n",
              "      <td>0</td>\n",
              "      <td>0</td>\n",
              "      <td>0</td>\n",
              "      <td>1</td>\n",
              "      <td>0</td>\n",
              "      <td>0</td>\n",
              "      <td>1</td>\n",
              "    </tr>\n",
              "    <tr>\n",
              "      <th>1</th>\n",
              "      <td>0</td>\n",
              "      <td>43.0</td>\n",
              "      <td>0</td>\n",
              "      <td>11.0</td>\n",
              "      <td>91449.0</td>\n",
              "      <td>0</td>\n",
              "      <td>257252.0</td>\n",
              "      <td>0</td>\n",
              "      <td>1</td>\n",
              "      <td>22</td>\n",
              "      <td>...</td>\n",
              "      <td>1</td>\n",
              "      <td>0</td>\n",
              "      <td>0</td>\n",
              "      <td>0</td>\n",
              "      <td>0</td>\n",
              "      <td>0</td>\n",
              "      <td>0</td>\n",
              "      <td>0</td>\n",
              "      <td>1</td>\n",
              "      <td>0</td>\n",
              "    </tr>\n",
              "    <tr>\n",
              "      <th>2</th>\n",
              "      <td>0</td>\n",
              "      <td>35.0</td>\n",
              "      <td>1</td>\n",
              "      <td>10.0</td>\n",
              "      <td>16039.0</td>\n",
              "      <td>0</td>\n",
              "      <td>124191.0</td>\n",
              "      <td>1</td>\n",
              "      <td>0</td>\n",
              "      <td>5</td>\n",
              "      <td>...</td>\n",
              "      <td>0</td>\n",
              "      <td>1</td>\n",
              "      <td>0</td>\n",
              "      <td>0</td>\n",
              "      <td>0</td>\n",
              "      <td>0</td>\n",
              "      <td>0</td>\n",
              "      <td>0</td>\n",
              "      <td>0</td>\n",
              "      <td>1</td>\n",
              "    </tr>\n",
              "    <tr>\n",
              "      <th>3</th>\n",
              "      <td>0</td>\n",
              "      <td>51.0</td>\n",
              "      <td>0</td>\n",
              "      <td>14.0</td>\n",
              "      <td>NaN</td>\n",
              "      <td>0</td>\n",
              "      <td>306251.0</td>\n",
              "      <td>1</td>\n",
              "      <td>1</td>\n",
              "      <td>32</td>\n",
              "      <td>...</td>\n",
              "      <td>1</td>\n",
              "      <td>0</td>\n",
              "      <td>0</td>\n",
              "      <td>0</td>\n",
              "      <td>0</td>\n",
              "      <td>0</td>\n",
              "      <td>0</td>\n",
              "      <td>0</td>\n",
              "      <td>0</td>\n",
              "      <td>1</td>\n",
              "    </tr>\n",
              "    <tr>\n",
              "      <th>4</th>\n",
              "      <td>0</td>\n",
              "      <td>50.0</td>\n",
              "      <td>0</td>\n",
              "      <td>NaN</td>\n",
              "      <td>114986.0</td>\n",
              "      <td>0</td>\n",
              "      <td>243925.0</td>\n",
              "      <td>1</td>\n",
              "      <td>0</td>\n",
              "      <td>36</td>\n",
              "      <td>...</td>\n",
              "      <td>0</td>\n",
              "      <td>0</td>\n",
              "      <td>1</td>\n",
              "      <td>0</td>\n",
              "      <td>0</td>\n",
              "      <td>0</td>\n",
              "      <td>0</td>\n",
              "      <td>0</td>\n",
              "      <td>0</td>\n",
              "      <td>1</td>\n",
              "    </tr>\n",
              "  </tbody>\n",
              "</table>\n",
              "<p>5 rows × 41 columns</p>\n",
              "</div>"
            ],
            "text/plain": [
              "   KIDSDRIV   AGE  HOMEKIDS   YOJ    INCOME  PARENT1  HOME_VAL  MSTATUS  SEX  \\\n",
              "0         0  60.0         0  11.0   67349.0        0       0.0        0    1   \n",
              "1         0  43.0         0  11.0   91449.0        0  257252.0        0    1   \n",
              "2         0  35.0         1  10.0   16039.0        0  124191.0        1    0   \n",
              "3         0  51.0         0  14.0       NaN        0  306251.0        1    1   \n",
              "4         0  50.0         0   NaN  114986.0        0  243925.0        1    0   \n",
              "\n",
              "   TRAVTIME  ...  JOB_Blue Collar  JOB_Clerical  JOB_Doctor  JOB_Home Maker  \\\n",
              "0        14  ...                0             0           0               0   \n",
              "1        22  ...                1             0           0               0   \n",
              "2         5  ...                0             1           0               0   \n",
              "3        32  ...                1             0           0               0   \n",
              "4        36  ...                0             0           1               0   \n",
              "\n",
              "   JOB_Lawyer  JOB_Manager  JOB_Professional  JOB_Student  CAR_USE_Commercial  \\\n",
              "0           0            0                 1            0                   0   \n",
              "1           0            0                 0            0                   1   \n",
              "2           0            0                 0            0                   0   \n",
              "3           0            0                 0            0                   0   \n",
              "4           0            0                 0            0                   0   \n",
              "\n",
              "   CAR_USE_Private  \n",
              "0                1  \n",
              "1                0  \n",
              "2                1  \n",
              "3                1  \n",
              "4                1  \n",
              "\n",
              "[5 rows x 41 columns]"
            ]
          },
          "execution_count": 14,
          "metadata": {},
          "output_type": "execute_result"
        }
      ],
      "source": [
        "df_for_imputer.head()"
      ]
    },
    {
      "cell_type": "code",
      "execution_count": 15,
      "metadata": {},
      "outputs": [],
      "source": [
        "from sklearn.impute import KNNImputer\n",
        "\n",
        "imputer = KNNImputer()\n",
        "imputer.fit(df_for_imputer)\n",
        "df_without_nan = pd.DataFrame(imputer.transform(df_for_imputer) ,columns=df_for_imputer.columns)"
      ]
    },
    {
      "cell_type": "code",
      "execution_count": 16,
      "metadata": {},
      "outputs": [
        {
          "data": {
            "text/html": [
              "<div>\n",
              "<style scoped>\n",
              "    .dataframe tbody tr th:only-of-type {\n",
              "        vertical-align: middle;\n",
              "    }\n",
              "\n",
              "    .dataframe tbody tr th {\n",
              "        vertical-align: top;\n",
              "    }\n",
              "\n",
              "    .dataframe thead th {\n",
              "        text-align: right;\n",
              "    }\n",
              "</style>\n",
              "<table border=\"1\" class=\"dataframe\">\n",
              "  <thead>\n",
              "    <tr style=\"text-align: right;\">\n",
              "      <th></th>\n",
              "      <th>KIDSDRIV</th>\n",
              "      <th>AGE</th>\n",
              "      <th>HOMEKIDS</th>\n",
              "      <th>YOJ</th>\n",
              "      <th>INCOME</th>\n",
              "      <th>PARENT1</th>\n",
              "      <th>HOME_VAL</th>\n",
              "      <th>MSTATUS</th>\n",
              "      <th>SEX</th>\n",
              "      <th>TRAVTIME</th>\n",
              "      <th>...</th>\n",
              "      <th>JOB_Blue Collar</th>\n",
              "      <th>JOB_Clerical</th>\n",
              "      <th>JOB_Doctor</th>\n",
              "      <th>JOB_Home Maker</th>\n",
              "      <th>JOB_Lawyer</th>\n",
              "      <th>JOB_Manager</th>\n",
              "      <th>JOB_Professional</th>\n",
              "      <th>JOB_Student</th>\n",
              "      <th>CAR_USE_Commercial</th>\n",
              "      <th>CAR_USE_Private</th>\n",
              "    </tr>\n",
              "  </thead>\n",
              "  <tbody>\n",
              "    <tr>\n",
              "      <th>0</th>\n",
              "      <td>0.0</td>\n",
              "      <td>60.0</td>\n",
              "      <td>0.0</td>\n",
              "      <td>11.0</td>\n",
              "      <td>67349.0</td>\n",
              "      <td>0.0</td>\n",
              "      <td>0.0</td>\n",
              "      <td>0.0</td>\n",
              "      <td>1.0</td>\n",
              "      <td>14.0</td>\n",
              "      <td>...</td>\n",
              "      <td>0.0</td>\n",
              "      <td>0.0</td>\n",
              "      <td>0.0</td>\n",
              "      <td>0.0</td>\n",
              "      <td>0.0</td>\n",
              "      <td>0.0</td>\n",
              "      <td>1.0</td>\n",
              "      <td>0.0</td>\n",
              "      <td>0.0</td>\n",
              "      <td>1.0</td>\n",
              "    </tr>\n",
              "    <tr>\n",
              "      <th>1</th>\n",
              "      <td>0.0</td>\n",
              "      <td>43.0</td>\n",
              "      <td>0.0</td>\n",
              "      <td>11.0</td>\n",
              "      <td>91449.0</td>\n",
              "      <td>0.0</td>\n",
              "      <td>257252.0</td>\n",
              "      <td>0.0</td>\n",
              "      <td>1.0</td>\n",
              "      <td>22.0</td>\n",
              "      <td>...</td>\n",
              "      <td>1.0</td>\n",
              "      <td>0.0</td>\n",
              "      <td>0.0</td>\n",
              "      <td>0.0</td>\n",
              "      <td>0.0</td>\n",
              "      <td>0.0</td>\n",
              "      <td>0.0</td>\n",
              "      <td>0.0</td>\n",
              "      <td>1.0</td>\n",
              "      <td>0.0</td>\n",
              "    </tr>\n",
              "    <tr>\n",
              "      <th>2</th>\n",
              "      <td>0.0</td>\n",
              "      <td>35.0</td>\n",
              "      <td>1.0</td>\n",
              "      <td>10.0</td>\n",
              "      <td>16039.0</td>\n",
              "      <td>0.0</td>\n",
              "      <td>124191.0</td>\n",
              "      <td>1.0</td>\n",
              "      <td>0.0</td>\n",
              "      <td>5.0</td>\n",
              "      <td>...</td>\n",
              "      <td>0.0</td>\n",
              "      <td>1.0</td>\n",
              "      <td>0.0</td>\n",
              "      <td>0.0</td>\n",
              "      <td>0.0</td>\n",
              "      <td>0.0</td>\n",
              "      <td>0.0</td>\n",
              "      <td>0.0</td>\n",
              "      <td>0.0</td>\n",
              "      <td>1.0</td>\n",
              "    </tr>\n",
              "    <tr>\n",
              "      <th>3</th>\n",
              "      <td>0.0</td>\n",
              "      <td>51.0</td>\n",
              "      <td>0.0</td>\n",
              "      <td>14.0</td>\n",
              "      <td>68559.4</td>\n",
              "      <td>0.0</td>\n",
              "      <td>306251.0</td>\n",
              "      <td>1.0</td>\n",
              "      <td>1.0</td>\n",
              "      <td>32.0</td>\n",
              "      <td>...</td>\n",
              "      <td>1.0</td>\n",
              "      <td>0.0</td>\n",
              "      <td>0.0</td>\n",
              "      <td>0.0</td>\n",
              "      <td>0.0</td>\n",
              "      <td>0.0</td>\n",
              "      <td>0.0</td>\n",
              "      <td>0.0</td>\n",
              "      <td>0.0</td>\n",
              "      <td>1.0</td>\n",
              "    </tr>\n",
              "    <tr>\n",
              "      <th>4</th>\n",
              "      <td>0.0</td>\n",
              "      <td>50.0</td>\n",
              "      <td>0.0</td>\n",
              "      <td>12.0</td>\n",
              "      <td>114986.0</td>\n",
              "      <td>0.0</td>\n",
              "      <td>243925.0</td>\n",
              "      <td>1.0</td>\n",
              "      <td>0.0</td>\n",
              "      <td>36.0</td>\n",
              "      <td>...</td>\n",
              "      <td>0.0</td>\n",
              "      <td>0.0</td>\n",
              "      <td>1.0</td>\n",
              "      <td>0.0</td>\n",
              "      <td>0.0</td>\n",
              "      <td>0.0</td>\n",
              "      <td>0.0</td>\n",
              "      <td>0.0</td>\n",
              "      <td>0.0</td>\n",
              "      <td>1.0</td>\n",
              "    </tr>\n",
              "    <tr>\n",
              "      <th>...</th>\n",
              "      <td>...</td>\n",
              "      <td>...</td>\n",
              "      <td>...</td>\n",
              "      <td>...</td>\n",
              "      <td>...</td>\n",
              "      <td>...</td>\n",
              "      <td>...</td>\n",
              "      <td>...</td>\n",
              "      <td>...</td>\n",
              "      <td>...</td>\n",
              "      <td>...</td>\n",
              "      <td>...</td>\n",
              "      <td>...</td>\n",
              "      <td>...</td>\n",
              "      <td>...</td>\n",
              "      <td>...</td>\n",
              "      <td>...</td>\n",
              "      <td>...</td>\n",
              "      <td>...</td>\n",
              "      <td>...</td>\n",
              "      <td>...</td>\n",
              "    </tr>\n",
              "    <tr>\n",
              "      <th>8156</th>\n",
              "      <td>0.0</td>\n",
              "      <td>35.0</td>\n",
              "      <td>0.0</td>\n",
              "      <td>11.0</td>\n",
              "      <td>43112.0</td>\n",
              "      <td>0.0</td>\n",
              "      <td>0.0</td>\n",
              "      <td>0.0</td>\n",
              "      <td>1.0</td>\n",
              "      <td>51.0</td>\n",
              "      <td>...</td>\n",
              "      <td>1.0</td>\n",
              "      <td>0.0</td>\n",
              "      <td>0.0</td>\n",
              "      <td>0.0</td>\n",
              "      <td>0.0</td>\n",
              "      <td>0.0</td>\n",
              "      <td>0.0</td>\n",
              "      <td>0.0</td>\n",
              "      <td>1.0</td>\n",
              "      <td>0.0</td>\n",
              "    </tr>\n",
              "    <tr>\n",
              "      <th>8157</th>\n",
              "      <td>1.0</td>\n",
              "      <td>45.0</td>\n",
              "      <td>2.0</td>\n",
              "      <td>9.0</td>\n",
              "      <td>164669.0</td>\n",
              "      <td>0.0</td>\n",
              "      <td>386273.0</td>\n",
              "      <td>1.0</td>\n",
              "      <td>1.0</td>\n",
              "      <td>21.0</td>\n",
              "      <td>...</td>\n",
              "      <td>0.0</td>\n",
              "      <td>0.0</td>\n",
              "      <td>0.0</td>\n",
              "      <td>0.0</td>\n",
              "      <td>0.0</td>\n",
              "      <td>1.0</td>\n",
              "      <td>0.0</td>\n",
              "      <td>0.0</td>\n",
              "      <td>0.0</td>\n",
              "      <td>1.0</td>\n",
              "    </tr>\n",
              "    <tr>\n",
              "      <th>8158</th>\n",
              "      <td>0.0</td>\n",
              "      <td>46.0</td>\n",
              "      <td>0.0</td>\n",
              "      <td>9.0</td>\n",
              "      <td>107204.0</td>\n",
              "      <td>0.0</td>\n",
              "      <td>332591.0</td>\n",
              "      <td>1.0</td>\n",
              "      <td>1.0</td>\n",
              "      <td>36.0</td>\n",
              "      <td>...</td>\n",
              "      <td>0.0</td>\n",
              "      <td>0.0</td>\n",
              "      <td>0.0</td>\n",
              "      <td>0.0</td>\n",
              "      <td>0.0</td>\n",
              "      <td>0.0</td>\n",
              "      <td>0.0</td>\n",
              "      <td>0.0</td>\n",
              "      <td>1.0</td>\n",
              "      <td>0.0</td>\n",
              "    </tr>\n",
              "    <tr>\n",
              "      <th>8159</th>\n",
              "      <td>0.0</td>\n",
              "      <td>50.0</td>\n",
              "      <td>0.0</td>\n",
              "      <td>7.0</td>\n",
              "      <td>43445.0</td>\n",
              "      <td>0.0</td>\n",
              "      <td>149248.0</td>\n",
              "      <td>1.0</td>\n",
              "      <td>0.0</td>\n",
              "      <td>36.0</td>\n",
              "      <td>...</td>\n",
              "      <td>0.0</td>\n",
              "      <td>0.0</td>\n",
              "      <td>0.0</td>\n",
              "      <td>1.0</td>\n",
              "      <td>0.0</td>\n",
              "      <td>0.0</td>\n",
              "      <td>0.0</td>\n",
              "      <td>0.0</td>\n",
              "      <td>0.0</td>\n",
              "      <td>1.0</td>\n",
              "    </tr>\n",
              "    <tr>\n",
              "      <th>8160</th>\n",
              "      <td>0.0</td>\n",
              "      <td>52.0</td>\n",
              "      <td>0.0</td>\n",
              "      <td>11.0</td>\n",
              "      <td>53235.0</td>\n",
              "      <td>0.0</td>\n",
              "      <td>197017.0</td>\n",
              "      <td>1.0</td>\n",
              "      <td>0.0</td>\n",
              "      <td>64.0</td>\n",
              "      <td>...</td>\n",
              "      <td>0.0</td>\n",
              "      <td>1.0</td>\n",
              "      <td>0.0</td>\n",
              "      <td>0.0</td>\n",
              "      <td>0.0</td>\n",
              "      <td>0.0</td>\n",
              "      <td>0.0</td>\n",
              "      <td>0.0</td>\n",
              "      <td>0.0</td>\n",
              "      <td>1.0</td>\n",
              "    </tr>\n",
              "  </tbody>\n",
              "</table>\n",
              "<p>8161 rows × 41 columns</p>\n",
              "</div>"
            ],
            "text/plain": [
              "      KIDSDRIV   AGE  HOMEKIDS   YOJ    INCOME  PARENT1  HOME_VAL  MSTATUS  \\\n",
              "0          0.0  60.0       0.0  11.0   67349.0      0.0       0.0      0.0   \n",
              "1          0.0  43.0       0.0  11.0   91449.0      0.0  257252.0      0.0   \n",
              "2          0.0  35.0       1.0  10.0   16039.0      0.0  124191.0      1.0   \n",
              "3          0.0  51.0       0.0  14.0   68559.4      0.0  306251.0      1.0   \n",
              "4          0.0  50.0       0.0  12.0  114986.0      0.0  243925.0      1.0   \n",
              "...        ...   ...       ...   ...       ...      ...       ...      ...   \n",
              "8156       0.0  35.0       0.0  11.0   43112.0      0.0       0.0      0.0   \n",
              "8157       1.0  45.0       2.0   9.0  164669.0      0.0  386273.0      1.0   \n",
              "8158       0.0  46.0       0.0   9.0  107204.0      0.0  332591.0      1.0   \n",
              "8159       0.0  50.0       0.0   7.0   43445.0      0.0  149248.0      1.0   \n",
              "8160       0.0  52.0       0.0  11.0   53235.0      0.0  197017.0      1.0   \n",
              "\n",
              "      SEX  TRAVTIME  ...  JOB_Blue Collar  JOB_Clerical  JOB_Doctor  \\\n",
              "0     1.0      14.0  ...              0.0           0.0         0.0   \n",
              "1     1.0      22.0  ...              1.0           0.0         0.0   \n",
              "2     0.0       5.0  ...              0.0           1.0         0.0   \n",
              "3     1.0      32.0  ...              1.0           0.0         0.0   \n",
              "4     0.0      36.0  ...              0.0           0.0         1.0   \n",
              "...   ...       ...  ...              ...           ...         ...   \n",
              "8156  1.0      51.0  ...              1.0           0.0         0.0   \n",
              "8157  1.0      21.0  ...              0.0           0.0         0.0   \n",
              "8158  1.0      36.0  ...              0.0           0.0         0.0   \n",
              "8159  0.0      36.0  ...              0.0           0.0         0.0   \n",
              "8160  0.0      64.0  ...              0.0           1.0         0.0   \n",
              "\n",
              "      JOB_Home Maker  JOB_Lawyer  JOB_Manager  JOB_Professional  JOB_Student  \\\n",
              "0                0.0         0.0          0.0               1.0          0.0   \n",
              "1                0.0         0.0          0.0               0.0          0.0   \n",
              "2                0.0         0.0          0.0               0.0          0.0   \n",
              "3                0.0         0.0          0.0               0.0          0.0   \n",
              "4                0.0         0.0          0.0               0.0          0.0   \n",
              "...              ...         ...          ...               ...          ...   \n",
              "8156             0.0         0.0          0.0               0.0          0.0   \n",
              "8157             0.0         0.0          1.0               0.0          0.0   \n",
              "8158             0.0         0.0          0.0               0.0          0.0   \n",
              "8159             1.0         0.0          0.0               0.0          0.0   \n",
              "8160             0.0         0.0          0.0               0.0          0.0   \n",
              "\n",
              "      CAR_USE_Commercial  CAR_USE_Private  \n",
              "0                    0.0              1.0  \n",
              "1                    1.0              0.0  \n",
              "2                    0.0              1.0  \n",
              "3                    0.0              1.0  \n",
              "4                    0.0              1.0  \n",
              "...                  ...              ...  \n",
              "8156                 1.0              0.0  \n",
              "8157                 0.0              1.0  \n",
              "8158                 1.0              0.0  \n",
              "8159                 0.0              1.0  \n",
              "8160                 0.0              1.0  \n",
              "\n",
              "[8161 rows x 41 columns]"
            ]
          },
          "execution_count": 16,
          "metadata": {},
          "output_type": "execute_result"
        }
      ],
      "source": [
        "df_without_nan"
      ]
    },
    {
      "cell_type": "markdown",
      "metadata": {},
      "source": [
        "We have our dataset without NaN. Let's categorize our categorical features."
      ]
    },
    {
      "cell_type": "code",
      "execution_count": 17,
      "metadata": {},
      "outputs": [],
      "source": [
        "df_clean = df_without_nan[df.drop(columns=columns_to_dummy+columns_to_drop).columns]\n",
        "\n",
        "for column_name in columns_to_dummy :\n",
        "    df_clean[column_name] = df_without_nan[df_without_nan.columns[np.char.startswith(list(df_without_nan.columns),column_name)]].idxmax(axis=1).apply(lambda x : x[len(column_name)+1:])"
      ]
    },
    {
      "cell_type": "code",
      "execution_count": 18,
      "metadata": {},
      "outputs": [
        {
          "data": {
            "text/html": [
              "<div>\n",
              "<style scoped>\n",
              "    .dataframe tbody tr th:only-of-type {\n",
              "        vertical-align: middle;\n",
              "    }\n",
              "\n",
              "    .dataframe tbody tr th {\n",
              "        vertical-align: top;\n",
              "    }\n",
              "\n",
              "    .dataframe thead th {\n",
              "        text-align: right;\n",
              "    }\n",
              "</style>\n",
              "<table border=\"1\" class=\"dataframe\">\n",
              "  <thead>\n",
              "    <tr style=\"text-align: right;\">\n",
              "      <th></th>\n",
              "      <th>KIDSDRIV</th>\n",
              "      <th>AGE</th>\n",
              "      <th>HOMEKIDS</th>\n",
              "      <th>YOJ</th>\n",
              "      <th>INCOME</th>\n",
              "      <th>PARENT1</th>\n",
              "      <th>HOME_VAL</th>\n",
              "      <th>MSTATUS</th>\n",
              "      <th>SEX</th>\n",
              "      <th>TRAVTIME</th>\n",
              "      <th>...</th>\n",
              "      <th>CLM_FREQ</th>\n",
              "      <th>REVOKED</th>\n",
              "      <th>MVR_PTS</th>\n",
              "      <th>CAR_AGE</th>\n",
              "      <th>EDUCATION</th>\n",
              "      <th>CAR_TYPE</th>\n",
              "      <th>URBANICITY</th>\n",
              "      <th>JOB</th>\n",
              "      <th>CAR_USE</th>\n",
              "      <th>TARGET_FLAG</th>\n",
              "    </tr>\n",
              "  </thead>\n",
              "  <tbody>\n",
              "    <tr>\n",
              "      <th>0</th>\n",
              "      <td>0.0</td>\n",
              "      <td>60.0</td>\n",
              "      <td>0.0</td>\n",
              "      <td>11.0</td>\n",
              "      <td>67349.0</td>\n",
              "      <td>0.0</td>\n",
              "      <td>0.0</td>\n",
              "      <td>0.0</td>\n",
              "      <td>1.0</td>\n",
              "      <td>14.0</td>\n",
              "      <td>...</td>\n",
              "      <td>2.0</td>\n",
              "      <td>0.0</td>\n",
              "      <td>3.0</td>\n",
              "      <td>18.0</td>\n",
              "      <td>PhD</td>\n",
              "      <td>Minivan</td>\n",
              "      <td>Highly Urban/ Urban</td>\n",
              "      <td>Professional</td>\n",
              "      <td>Private</td>\n",
              "      <td>0</td>\n",
              "    </tr>\n",
              "    <tr>\n",
              "      <th>1</th>\n",
              "      <td>0.0</td>\n",
              "      <td>43.0</td>\n",
              "      <td>0.0</td>\n",
              "      <td>11.0</td>\n",
              "      <td>91449.0</td>\n",
              "      <td>0.0</td>\n",
              "      <td>257252.0</td>\n",
              "      <td>0.0</td>\n",
              "      <td>1.0</td>\n",
              "      <td>22.0</td>\n",
              "      <td>...</td>\n",
              "      <td>0.0</td>\n",
              "      <td>0.0</td>\n",
              "      <td>0.0</td>\n",
              "      <td>1.0</td>\n",
              "      <td>High School</td>\n",
              "      <td>Minivan</td>\n",
              "      <td>Highly Urban/ Urban</td>\n",
              "      <td>Blue Collar</td>\n",
              "      <td>Commercial</td>\n",
              "      <td>0</td>\n",
              "    </tr>\n",
              "    <tr>\n",
              "      <th>2</th>\n",
              "      <td>0.0</td>\n",
              "      <td>35.0</td>\n",
              "      <td>1.0</td>\n",
              "      <td>10.0</td>\n",
              "      <td>16039.0</td>\n",
              "      <td>0.0</td>\n",
              "      <td>124191.0</td>\n",
              "      <td>1.0</td>\n",
              "      <td>0.0</td>\n",
              "      <td>5.0</td>\n",
              "      <td>...</td>\n",
              "      <td>2.0</td>\n",
              "      <td>0.0</td>\n",
              "      <td>3.0</td>\n",
              "      <td>10.0</td>\n",
              "      <td>High School</td>\n",
              "      <td>SUV</td>\n",
              "      <td>Highly Urban/ Urban</td>\n",
              "      <td>Clerical</td>\n",
              "      <td>Private</td>\n",
              "      <td>0</td>\n",
              "    </tr>\n",
              "    <tr>\n",
              "      <th>3</th>\n",
              "      <td>0.0</td>\n",
              "      <td>51.0</td>\n",
              "      <td>0.0</td>\n",
              "      <td>14.0</td>\n",
              "      <td>68559.4</td>\n",
              "      <td>0.0</td>\n",
              "      <td>306251.0</td>\n",
              "      <td>1.0</td>\n",
              "      <td>1.0</td>\n",
              "      <td>32.0</td>\n",
              "      <td>...</td>\n",
              "      <td>0.0</td>\n",
              "      <td>0.0</td>\n",
              "      <td>0.0</td>\n",
              "      <td>6.0</td>\n",
              "      <td>&lt;High School</td>\n",
              "      <td>Minivan</td>\n",
              "      <td>Highly Urban/ Urban</td>\n",
              "      <td>Blue Collar</td>\n",
              "      <td>Private</td>\n",
              "      <td>0</td>\n",
              "    </tr>\n",
              "    <tr>\n",
              "      <th>4</th>\n",
              "      <td>0.0</td>\n",
              "      <td>50.0</td>\n",
              "      <td>0.0</td>\n",
              "      <td>12.0</td>\n",
              "      <td>114986.0</td>\n",
              "      <td>0.0</td>\n",
              "      <td>243925.0</td>\n",
              "      <td>1.0</td>\n",
              "      <td>0.0</td>\n",
              "      <td>36.0</td>\n",
              "      <td>...</td>\n",
              "      <td>2.0</td>\n",
              "      <td>1.0</td>\n",
              "      <td>3.0</td>\n",
              "      <td>17.0</td>\n",
              "      <td>PhD</td>\n",
              "      <td>SUV</td>\n",
              "      <td>Highly Urban/ Urban</td>\n",
              "      <td>Doctor</td>\n",
              "      <td>Private</td>\n",
              "      <td>0</td>\n",
              "    </tr>\n",
              "  </tbody>\n",
              "</table>\n",
              "<p>5 rows × 24 columns</p>\n",
              "</div>"
            ],
            "text/plain": [
              "   KIDSDRIV   AGE  HOMEKIDS   YOJ    INCOME  PARENT1  HOME_VAL  MSTATUS  SEX  \\\n",
              "0       0.0  60.0       0.0  11.0   67349.0      0.0       0.0      0.0  1.0   \n",
              "1       0.0  43.0       0.0  11.0   91449.0      0.0  257252.0      0.0  1.0   \n",
              "2       0.0  35.0       1.0  10.0   16039.0      0.0  124191.0      1.0  0.0   \n",
              "3       0.0  51.0       0.0  14.0   68559.4      0.0  306251.0      1.0  1.0   \n",
              "4       0.0  50.0       0.0  12.0  114986.0      0.0  243925.0      1.0  0.0   \n",
              "\n",
              "   TRAVTIME  ...  CLM_FREQ  REVOKED  MVR_PTS  CAR_AGE     EDUCATION  CAR_TYPE  \\\n",
              "0      14.0  ...       2.0      0.0      3.0     18.0           PhD   Minivan   \n",
              "1      22.0  ...       0.0      0.0      0.0      1.0   High School   Minivan   \n",
              "2       5.0  ...       2.0      0.0      3.0     10.0   High School       SUV   \n",
              "3      32.0  ...       0.0      0.0      0.0      6.0  <High School   Minivan   \n",
              "4      36.0  ...       2.0      1.0      3.0     17.0           PhD       SUV   \n",
              "\n",
              "            URBANICITY           JOB     CAR_USE TARGET_FLAG  \n",
              "0  Highly Urban/ Urban  Professional     Private           0  \n",
              "1  Highly Urban/ Urban   Blue Collar  Commercial           0  \n",
              "2  Highly Urban/ Urban      Clerical     Private           0  \n",
              "3  Highly Urban/ Urban   Blue Collar     Private           0  \n",
              "4  Highly Urban/ Urban        Doctor     Private           0  \n",
              "\n",
              "[5 rows x 24 columns]"
            ]
          },
          "execution_count": 18,
          "metadata": {},
          "output_type": "execute_result"
        }
      ],
      "source": [
        "df_clean['TARGET_FLAG'] = df['TARGET_FLAG']\n",
        "df_clean.head()"
      ]
    },
    {
      "cell_type": "markdown",
      "metadata": {},
      "source": [
        "We have a clean dataset ! Now we can visualize our data properly."
      ]
    },
    {
      "cell_type": "markdown",
      "metadata": {},
      "source": [
        "## Data Visualisation"
      ]
    },
    {
      "cell_type": "markdown",
      "metadata": {},
      "source": [
        "First, let's see who are our clients."
      ]
    },
    {
      "cell_type": "code",
      "execution_count": 19,
      "metadata": {},
      "outputs": [
        {
          "data": {
            "image/png": "[encoded data removed]",
            "text/plain": [
              "<Figure size 432x288 with 1 Axes>"
            ]
          },
          "metadata": {
            "needs_background": "light"
          },
          "output_type": "display_data"
        }
      ],
      "source": [
        "plt.hist(df_clean['AGE'],bins=30)\n",
        "plt.xlabel('Age');"
      ]
    },
    {
      "cell_type": "code",
      "execution_count": 20,
      "metadata": {},
      "outputs": [
        {
          "data": {
            "image/png": "[encoded data removed]",
            "text/plain": [
              "<Figure size 360x360 with 1 Axes>"
            ]
          },
          "metadata": {
            "needs_background": "light"
          },
          "output_type": "display_data"
        }
      ],
      "source": [
        "sns.catplot(x=\"TARGET_FLAG\", kind=\"count\", palette=\"ch:.25\",aspect=1, data=df_clean);"
      ]
    },
    {
      "cell_type": "markdown",
      "metadata": {},
      "source": [
        "Our variables are umbalanced, we will age to take that into account in the Machine Learning part."
      ]
    },
    {
      "cell_type": "code",
      "execution_count": 21,
      "metadata": {},
      "outputs": [
        {
          "data": {
            "image/png": "[encoded data removed]",
            "text/plain": [
              "<Figure size 360x360 with 1 Axes>"
            ]
          },
          "metadata": {
            "needs_background": "light"
          },
          "output_type": "display_data"
        }
      ],
      "source": [
        "sns.catplot(x=\"CAR_USE\", kind=\"count\", palette=\"ch:.25\",aspect=1, data=df_clean);"
      ]
    },
    {
      "cell_type": "code",
      "execution_count": 22,
      "metadata": {},
      "outputs": [
        {
          "data": {
            "image/png": "[encoded data removed]",
            "text/plain": [
              "<Figure size 360x360 with 1 Axes>"
            ]
          },
          "metadata": {
            "needs_background": "light"
          },
          "output_type": "display_data"
        }
      ],
      "source": [
        "sns.catplot(x=\"URBANICITY\", kind=\"count\", palette=\"ch:.25\",aspect=1, data=df_clean);"
      ]
    },
    {
      "cell_type": "code",
      "execution_count": 23,
      "metadata": {},
      "outputs": [
        {
          "data": {
            "image/png": "[encoded data removed]",
            "text/plain": [
              "<Figure size 540x360 with 1 Axes>"
            ]
          },
          "metadata": {
            "needs_background": "light"
          },
          "output_type": "display_data"
        }
      ],
      "source": [
        "sns.catplot(x=\"CAR_TYPE\", kind=\"count\", palette=\"ch:.25\",aspect=1.5, data=df_clean);"
      ]
    },
    {
      "cell_type": "code",
      "execution_count": 24,
      "metadata": {},
      "outputs": [
        {
          "data": {
            "image/png": "[encoded data removed]",
            "text/plain": [
              "<Figure size 540x360 with 1 Axes>"
            ]
          },
          "metadata": {
            "needs_background": "light"
          },
          "output_type": "display_data"
        }
      ],
      "source": [
        "sns.catplot(x=\"EDUCATION\", kind=\"count\", palette=\"ch:.25\",aspect=1.5, data=df_clean, order=['<High School','High School','Bachelors','Masters','PhD']);"
      ]
    },
    {
      "cell_type": "code",
      "execution_count": 25,
      "metadata": {},
      "outputs": [
        {
          "data": {
            "image/png": "[encoded data removed]",
            "text/plain": [
              "<Figure size 798x360 with 2 Axes>"
            ]
          },
          "metadata": {
            "needs_background": "light"
          },
          "output_type": "display_data"
        }
      ],
      "source": [
        "sns.catplot(col=\"URBANICITY\",y=\"AGE\", hue=\"TARGET_FLAG\",x=\"SEX\", kind=\"swarm\", data=df_clean.sample(1000));"
      ]
    },
    {
      "cell_type": "markdown",
      "metadata": {},
      "source": [
        "In the city the target flag is relatively more frequent, this variable will be more important. There is no distinction between sexes, so we can think about dropping this variable, all the more so as it is not ethical to keep it. The more one is young, the more he/she is succeptible to be targeted : this variable will be important."
      ]
    },
    {
      "cell_type": "code",
      "execution_count": 26,
      "metadata": {},
      "outputs": [
        {
          "data": {
            "image/png": "[encoded data removed]",
            "text/plain": [
              "<Figure size 798x360 with 2 Axes>"
            ]
          },
          "metadata": {
            "needs_background": "light"
          },
          "output_type": "display_data"
        }
      ],
      "source": [
        "sns.catplot(x=\"CAR_TYPE\",hue=\"TARGET_FLAG\",col=\"CAR_USE\",kind=\"count\",data=df_clean);"
      ]
    },
    {
      "cell_type": "markdown",
      "metadata": {},
      "source": [
        "There are more probability of being flagged if we have a commercial car, especially if we have a Sports Car, a SUV or a Pickup. Those information are going to be important, we can create a feature for those type of cars."
      ]
    },
    {
      "cell_type": "code",
      "execution_count": 27,
      "metadata": {},
      "outputs": [
        {
          "data": {
            "image/png": "[encoded data removed]",
            "text/plain": [
              "<Figure size 1518x360 with 2 Axes>"
            ]
          },
          "metadata": {
            "needs_background": "light"
          },
          "output_type": "display_data"
        }
      ],
      "source": [
        "sns.catplot(col='CAR_USE',hue=\"TARGET_FLAG\",x=\"JOB\",kind=\"count\",data=df_clean,aspect=2);"
      ]
    },
    {
      "cell_type": "markdown",
      "metadata": {},
      "source": [
        "We have a lot of target flags in Blue Collar, Student and Clerical. Maybe we could do clustering to only one variable about job, representing how much the job is susceptible to get target."
      ]
    },
    {
      "cell_type": "code",
      "execution_count": 28,
      "metadata": {},
      "outputs": [
        {
          "data": {
            "image/png": "[encoded data removed]",
            "text/plain": [
              "<Figure size 798x360 with 2 Axes>"
            ]
          },
          "metadata": {
            "needs_background": "light"
          },
          "output_type": "display_data"
        }
      ],
      "source": [
        "sns.catplot(col='REVOKED',hue=\"TARGET_FLAG\",x=\"EDUCATION\",kind=\"count\",data=df_clean,aspect=1,order=['<High School','High School','Bachelors','Masters','PhD']);"
      ]
    },
    {
      "cell_type": "markdown",
      "metadata": {},
      "source": [
        "The revoked variable is very important : we see that a high proportion of revoked are targeted, excepted for PhDs, and that otherwise the level of education doesn't play a huge role. We can transform the feature \"EDUCATION\" into a feature \"dangerousity of education\" equal to the proportion of targeted in my education if revoked=0.0."
      ]
    },
    {
      "cell_type": "code",
      "execution_count": 29,
      "metadata": {},
      "outputs": [
        {
          "data": {
            "text/html": [
              "<div>\n",
              "<style scoped>\n",
              "    .dataframe tbody tr th:only-of-type {\n",
              "        vertical-align: middle;\n",
              "    }\n",
              "\n",
              "    .dataframe tbody tr th {\n",
              "        vertical-align: top;\n",
              "    }\n",
              "\n",
              "    .dataframe thead th {\n",
              "        text-align: right;\n",
              "    }\n",
              "</style>\n",
              "<table border=\"1\" class=\"dataframe\">\n",
              "  <thead>\n",
              "    <tr style=\"text-align: right;\">\n",
              "      <th></th>\n",
              "      <th>TARGET_FLAG</th>\n",
              "      <th>TOTAL</th>\n",
              "    </tr>\n",
              "    <tr>\n",
              "      <th>EDUCATION</th>\n",
              "      <th></th>\n",
              "      <th></th>\n",
              "    </tr>\n",
              "  </thead>\n",
              "  <tbody>\n",
              "    <tr>\n",
              "      <th>&lt;High School</th>\n",
              "      <td>385</td>\n",
              "      <td>1203</td>\n",
              "    </tr>\n",
              "    <tr>\n",
              "      <th>Bachelors</th>\n",
              "      <td>523</td>\n",
              "      <td>2242</td>\n",
              "    </tr>\n",
              "    <tr>\n",
              "      <th>High School</th>\n",
              "      <td>793</td>\n",
              "      <td>2330</td>\n",
              "    </tr>\n",
              "    <tr>\n",
              "      <th>Masters</th>\n",
              "      <td>327</td>\n",
              "      <td>1658</td>\n",
              "    </tr>\n",
              "    <tr>\n",
              "      <th>PhD</th>\n",
              "      <td>125</td>\n",
              "      <td>728</td>\n",
              "    </tr>\n",
              "  </tbody>\n",
              "</table>\n",
              "</div>"
            ],
            "text/plain": [
              "              TARGET_FLAG  TOTAL\n",
              "EDUCATION                       \n",
              "<High School          385   1203\n",
              "Bachelors             523   2242\n",
              "High School           793   2330\n",
              "Masters               327   1658\n",
              "PhD                   125    728"
            ]
          },
          "metadata": {},
          "output_type": "display_data"
        },
        {
          "data": {
            "text/plain": [
              "{'<High School': 0.3200332502078138,\n",
              " 'Bachelors': 0.23327386262265834,\n",
              " 'High School': 0.340343347639485,\n",
              " 'Masters': 0.19722557297949336,\n",
              " 'PhD': 0.1717032967032967}"
            ]
          },
          "execution_count": 29,
          "metadata": {},
          "output_type": "execute_result"
        }
      ],
      "source": [
        "df_clean_education = pd.concat([ df_clean[['EDUCATION','TARGET_FLAG']] , pd.DataFrame(np.ones(len(df_clean),dtype=int),columns=['TOTAL'])],axis=1)\n",
        "display(df_clean_education.groupby('EDUCATION').sum())\n",
        "dico_education = dict(df_clean_education.groupby('EDUCATION').sum().apply(lambda row : row.TARGET_FLAG / row.TOTAL, axis=1))\n",
        "dico_education"
      ]
    },
    {
      "cell_type": "code",
      "execution_count": 30,
      "metadata": {},
      "outputs": [
        {
          "data": {
            "image/png": "[encoded data removed]",
            "text/plain": [
              "<Figure size 798x360 with 1 Axes>"
            ]
          },
          "metadata": {
            "needs_background": "light"
          },
          "output_type": "display_data"
        }
      ],
      "source": [
        "sns.catplot(x=\"HOMEKIDS\", y=\"CAR_AGE\", kind=\"boxen\",aspect=2, hue=\"TARGET_FLAG\",data=df_clean);"
      ]
    },
    {
      "cell_type": "markdown",
      "metadata": {},
      "source": [
        "Neither the car age nor the homekids seem to play an important role."
      ]
    },
    {
      "cell_type": "code",
      "execution_count": 31,
      "metadata": {},
      "outputs": [
        {
          "data": {
            "image/png": "[encoded data removed]",
            "text/plain": [
              "<Figure size 798x360 with 1 Axes>"
            ]
          },
          "metadata": {
            "needs_background": "light"
          },
          "output_type": "display_data"
        }
      ],
      "source": [
        "sns.catplot(x=\"CLM_FREQ\", kind=\"count\",aspect=2, hue=\"TARGET_FLAG\",data=df_clean);"
      ]
    },
    {
      "cell_type": "markdown",
      "metadata": {},
      "source": [
        "The more one has claimed, the more they will be targeted."
      ]
    },
    {
      "cell_type": "markdown",
      "metadata": {},
      "source": [
        "Let's see the correlations between our features."
      ]
    },
    {
      "cell_type": "code",
      "execution_count": 32,
      "metadata": {},
      "outputs": [
        {
          "data": {
            "image/png": "[encoded data removed]",
            "text/plain": [
              "<Figure size 1008x720 with 2 Axes>"
            ]
          },
          "metadata": {
            "needs_background": "light"
          },
          "output_type": "display_data"
        }
      ],
      "source": [
        "plt.figure(figsize=(14,10))\n",
        "sns.heatmap(df_clean.corr());"
      ]
    },
    {
      "cell_type": "markdown",
      "metadata": {},
      "source": [
        "We can observe the correlation of the variables with the TARGET_FLAG."
      ]
    },
    {
      "cell_type": "markdown",
      "metadata": {},
      "source": [
        "HOME_VAL, INCOME and BLUEBOOK are highly correlated, so we can keep only one of them. Same for OLDCLAIM and CLM_FREQ, and KIDSDRIV and HOMEKIDS."
      ]
    },
    {
      "cell_type": "markdown",
      "metadata": {},
      "source": [
        "We see that the variables RED_CAR and SEX are correlated, and the RED_CAR variable shouldn't play a role, so we are going to drop this variable..."
      ]
    },
    {
      "cell_type": "markdown",
      "metadata": {},
      "source": [
        "## Feature Engineering"
      ]
    },
    {
      "cell_type": "code",
      "execution_count": 33,
      "metadata": {},
      "outputs": [],
      "source": [
        "def data_for_ml(data):\n",
        "    \n",
        "    dataset = data.copy()\n",
        "    # removing some features\n",
        "    try :\n",
        "        dataset.drop(columns=['TARGET_AMT','TARGET_FLAG'],inplace=True)\n",
        "        dataset.drop(columns=['INDEX'],inplace=True)\n",
        "    except :pass\n",
        "    dataset.drop(columns=['SEX','RED_CAR','OLDCLAIM','KIDSDRIV'],inplace=True)\n",
        "\n",
        "    # remove the \"z_\"\n",
        "    for column_name in ['EDUCATION','MSTATUS','JOB','CAR_TYPE','URBANICITY']:\n",
        "        dataset[column_name] = dataset.apply(lambda row : remove_z(row,column_name),axis=1)\n",
        "    del(column_name)\n",
        "\n",
        "    # remove the \"$\" from income, remove silimar features of income\n",
        "    dataset.drop(columns=['HOME_VAL','BLUEBOOK'],inplace=True)\n",
        "    dataset['INCOME'] = dataset.apply(lambda row : from_dollar_string_to_float(row,'INCOME'),axis=1)\n",
        "\n",
        "    # make binary variables\n",
        "    dataset.replace({'Yes':1,'No':0,'M':1,'F':0,'yes':1,'no':0},inplace=True)\n",
        "    dataset['CAR_USE'] = dataset['CAR_USE'].replace({'Private':0,'Commercial':1})\n",
        "    dataset['URBANICITY'] = dataset['URBANICITY'].replace({'Highly Rural/ Rural':0,'Highly Urban/ Urban':1})\n",
        "\n",
        "    # create features \n",
        "    dataset['EDUCATION'] = dataset.apply( lambda row : dico_education[row.EDUCATION], axis=1 )\n",
        "    dataset['CAR_TYPE_DANGEROUS'] = dataset.apply(lambda row : 1 if row.CAR_TYPE in ['SUV','Sports Car','Pickup'] else 0,axis=1)\n",
        "    dataset['JOB_DANGEROUS'] = dataset.apply(lambda row : 1 if row.JOB in ['Blue Collar','Student','Clerical'] else 0,axis=1)\n",
        "    dataset.drop(columns=['CAR_TYPE','JOB'],inplace=True)\n",
        "    \n",
        "    return dataset"
      ]
    },
    {
      "cell_type": "code",
      "execution_count": 34,
      "metadata": {},
      "outputs": [
        {
          "data": {
            "text/html": [
              "<div>\n",
              "<style scoped>\n",
              "    .dataframe tbody tr th:only-of-type {\n",
              "        vertical-align: middle;\n",
              "    }\n",
              "\n",
              "    .dataframe tbody tr th {\n",
              "        vertical-align: top;\n",
              "    }\n",
              "\n",
              "    .dataframe thead th {\n",
              "        text-align: right;\n",
              "    }\n",
              "</style>\n",
              "<table border=\"1\" class=\"dataframe\">\n",
              "  <thead>\n",
              "    <tr style=\"text-align: right;\">\n",
              "      <th></th>\n",
              "      <th>KIDSDRIV</th>\n",
              "      <th>AGE</th>\n",
              "      <th>HOMEKIDS</th>\n",
              "      <th>YOJ</th>\n",
              "      <th>INCOME</th>\n",
              "      <th>PARENT1</th>\n",
              "      <th>HOME_VAL</th>\n",
              "      <th>MSTATUS</th>\n",
              "      <th>SEX</th>\n",
              "      <th>TRAVTIME</th>\n",
              "      <th>...</th>\n",
              "      <th>CLM_FREQ</th>\n",
              "      <th>REVOKED</th>\n",
              "      <th>MVR_PTS</th>\n",
              "      <th>CAR_AGE</th>\n",
              "      <th>EDUCATION</th>\n",
              "      <th>CAR_TYPE</th>\n",
              "      <th>URBANICITY</th>\n",
              "      <th>JOB</th>\n",
              "      <th>CAR_USE</th>\n",
              "      <th>TARGET_FLAG</th>\n",
              "    </tr>\n",
              "  </thead>\n",
              "  <tbody>\n",
              "    <tr>\n",
              "      <th>0</th>\n",
              "      <td>0.0</td>\n",
              "      <td>60.0</td>\n",
              "      <td>0.0</td>\n",
              "      <td>11.0</td>\n",
              "      <td>67349.0</td>\n",
              "      <td>0.0</td>\n",
              "      <td>0.0</td>\n",
              "      <td>0.0</td>\n",
              "      <td>1.0</td>\n",
              "      <td>14.0</td>\n",
              "      <td>...</td>\n",
              "      <td>2.0</td>\n",
              "      <td>0.0</td>\n",
              "      <td>3.0</td>\n",
              "      <td>18.0</td>\n",
              "      <td>PhD</td>\n",
              "      <td>Minivan</td>\n",
              "      <td>Highly Urban/ Urban</td>\n",
              "      <td>Professional</td>\n",
              "      <td>Private</td>\n",
              "      <td>0</td>\n",
              "    </tr>\n",
              "    <tr>\n",
              "      <th>1</th>\n",
              "      <td>0.0</td>\n",
              "      <td>43.0</td>\n",
              "      <td>0.0</td>\n",
              "      <td>11.0</td>\n",
              "      <td>91449.0</td>\n",
              "      <td>0.0</td>\n",
              "      <td>257252.0</td>\n",
              "      <td>0.0</td>\n",
              "      <td>1.0</td>\n",
              "      <td>22.0</td>\n",
              "      <td>...</td>\n",
              "      <td>0.0</td>\n",
              "      <td>0.0</td>\n",
              "      <td>0.0</td>\n",
              "      <td>1.0</td>\n",
              "      <td>High School</td>\n",
              "      <td>Minivan</td>\n",
              "      <td>Highly Urban/ Urban</td>\n",
              "      <td>Blue Collar</td>\n",
              "      <td>Commercial</td>\n",
              "      <td>0</td>\n",
              "    </tr>\n",
              "    <tr>\n",
              "      <th>2</th>\n",
              "      <td>0.0</td>\n",
              "      <td>35.0</td>\n",
              "      <td>1.0</td>\n",
              "      <td>10.0</td>\n",
              "      <td>16039.0</td>\n",
              "      <td>0.0</td>\n",
              "      <td>124191.0</td>\n",
              "      <td>1.0</td>\n",
              "      <td>0.0</td>\n",
              "      <td>5.0</td>\n",
              "      <td>...</td>\n",
              "      <td>2.0</td>\n",
              "      <td>0.0</td>\n",
              "      <td>3.0</td>\n",
              "      <td>10.0</td>\n",
              "      <td>High School</td>\n",
              "      <td>SUV</td>\n",
              "      <td>Highly Urban/ Urban</td>\n",
              "      <td>Clerical</td>\n",
              "      <td>Private</td>\n",
              "      <td>0</td>\n",
              "    </tr>\n",
              "    <tr>\n",
              "      <th>3</th>\n",
              "      <td>0.0</td>\n",
              "      <td>51.0</td>\n",
              "      <td>0.0</td>\n",
              "      <td>14.0</td>\n",
              "      <td>68559.4</td>\n",
              "      <td>0.0</td>\n",
              "      <td>306251.0</td>\n",
              "      <td>1.0</td>\n",
              "      <td>1.0</td>\n",
              "      <td>32.0</td>\n",
              "      <td>...</td>\n",
              "      <td>0.0</td>\n",
              "      <td>0.0</td>\n",
              "      <td>0.0</td>\n",
              "      <td>6.0</td>\n",
              "      <td>&lt;High School</td>\n",
              "      <td>Minivan</td>\n",
              "      <td>Highly Urban/ Urban</td>\n",
              "      <td>Blue Collar</td>\n",
              "      <td>Private</td>\n",
              "      <td>0</td>\n",
              "    </tr>\n",
              "    <tr>\n",
              "      <th>4</th>\n",
              "      <td>0.0</td>\n",
              "      <td>50.0</td>\n",
              "      <td>0.0</td>\n",
              "      <td>12.0</td>\n",
              "      <td>114986.0</td>\n",
              "      <td>0.0</td>\n",
              "      <td>243925.0</td>\n",
              "      <td>1.0</td>\n",
              "      <td>0.0</td>\n",
              "      <td>36.0</td>\n",
              "      <td>...</td>\n",
              "      <td>2.0</td>\n",
              "      <td>1.0</td>\n",
              "      <td>3.0</td>\n",
              "      <td>17.0</td>\n",
              "      <td>PhD</td>\n",
              "      <td>SUV</td>\n",
              "      <td>Highly Urban/ Urban</td>\n",
              "      <td>Doctor</td>\n",
              "      <td>Private</td>\n",
              "      <td>0</td>\n",
              "    </tr>\n",
              "  </tbody>\n",
              "</table>\n",
              "<p>5 rows × 24 columns</p>\n",
              "</div>"
            ],
            "text/plain": [
              "   KIDSDRIV   AGE  HOMEKIDS   YOJ    INCOME  PARENT1  HOME_VAL  MSTATUS  SEX  \\\n",
              "0       0.0  60.0       0.0  11.0   67349.0      0.0       0.0      0.0  1.0   \n",
              "1       0.0  43.0       0.0  11.0   91449.0      0.0  257252.0      0.0  1.0   \n",
              "2       0.0  35.0       1.0  10.0   16039.0      0.0  124191.0      1.0  0.0   \n",
              "3       0.0  51.0       0.0  14.0   68559.4      0.0  306251.0      1.0  1.0   \n",
              "4       0.0  50.0       0.0  12.0  114986.0      0.0  243925.0      1.0  0.0   \n",
              "\n",
              "   TRAVTIME  ...  CLM_FREQ  REVOKED  MVR_PTS  CAR_AGE     EDUCATION  CAR_TYPE  \\\n",
              "0      14.0  ...       2.0      0.0      3.0     18.0           PhD   Minivan   \n",
              "1      22.0  ...       0.0      0.0      0.0      1.0   High School   Minivan   \n",
              "2       5.0  ...       2.0      0.0      3.0     10.0   High School       SUV   \n",
              "3      32.0  ...       0.0      0.0      0.0      6.0  <High School   Minivan   \n",
              "4      36.0  ...       2.0      1.0      3.0     17.0           PhD       SUV   \n",
              "\n",
              "            URBANICITY           JOB     CAR_USE TARGET_FLAG  \n",
              "0  Highly Urban/ Urban  Professional     Private           0  \n",
              "1  Highly Urban/ Urban   Blue Collar  Commercial           0  \n",
              "2  Highly Urban/ Urban      Clerical     Private           0  \n",
              "3  Highly Urban/ Urban   Blue Collar     Private           0  \n",
              "4  Highly Urban/ Urban        Doctor     Private           0  \n",
              "\n",
              "[5 rows x 24 columns]"
            ]
          },
          "execution_count": 34,
          "metadata": {},
          "output_type": "execute_result"
        }
      ],
      "source": [
        "df_clean.head()"
      ]
    },
    {
      "cell_type": "markdown",
      "metadata": {
        "id": "52sMwElOm1nt"
      },
      "source": [
        "# Machine Learning"
      ]
    },
    {
      "cell_type": "markdown",
      "metadata": {
        "id": "MWJ0Rcprh87b"
      },
      "source": [
        "## Prepare training and validation data"
      ]
    },
    {
      "cell_type": "code",
      "execution_count": 35,
      "metadata": {},
      "outputs": [],
      "source": [
        "X = data_for_ml(df_clean).drop(columns=['TARGET_FLAG'])\n",
        "y = data_for_ml(df_clean)['TARGET_FLAG']"
      ]
    },
    {
      "cell_type": "code",
      "execution_count": 36,
      "metadata": {},
      "outputs": [],
      "source": [
        "from sklearn.preprocessing import StandardScaler\n",
        "\n",
        "scaler = StandardScaler()\n",
        "scaler.fit(X)\n",
        "X_scaled = scaler.transform(X)"
      ]
    },
    {
      "cell_type": "markdown",
      "metadata": {
        "id": "4bQAUYEyiwMa"
      },
      "source": [
        "Stratification makes validation data with the same distribution of labels as the training data."
      ]
    },
    {
      "cell_type": "code",
      "execution_count": 37,
      "metadata": {
        "id": "2iCDEHcum4U3"
      },
      "outputs": [],
      "source": [
        "from sklearn.model_selection import train_test_split\n",
        "\n",
        "X_train, X_val, y_train, y_val = train_test_split(X_scaled, y, test_size = 0.2, stratify=y)"
      ]
    },
    {
      "cell_type": "markdown",
      "metadata": {
        "id": "FAdfslhlk-p_"
      },
      "source": [
        "## Choose, train and evaluate model"
      ]
    },
    {
      "cell_type": "markdown",
      "metadata": {
        "id": "grvBCNRglSGU"
      },
      "source": [
        "Déjà, définissons une fonction qui donne le score d'un modèle. <br> \n",
        "Pour la classification, on définit 4 taux statistiques."
      ]
    },
    {
      "cell_type": "code",
      "execution_count": 38,
      "metadata": {
        "colab": {
          "base_uri": "https://localhost:8080/",
          "height": 141
        },
        "id": "FX-oHw-on_P9",
        "outputId": "6eb2caf6-09a6-4cb6-f680-e1e6468a49bf"
      },
      "outputs": [
        {
          "data": {
            "text/html": [
              "<div>\n",
              "<style scoped>\n",
              "    .dataframe tbody tr th:only-of-type {\n",
              "        vertical-align: middle;\n",
              "    }\n",
              "\n",
              "    .dataframe tbody tr th {\n",
              "        vertical-align: top;\n",
              "    }\n",
              "\n",
              "    .dataframe thead th {\n",
              "        text-align: right;\n",
              "    }\n",
              "</style>\n",
              "<table border=\"1\" class=\"dataframe\">\n",
              "  <thead>\n",
              "    <tr style=\"text-align: right;\">\n",
              "      <th></th>\n",
              "      <th>Positive</th>\n",
              "      <th>Negative</th>\n",
              "    </tr>\n",
              "    <tr>\n",
              "      <th>Predicted</th>\n",
              "      <th></th>\n",
              "      <th></th>\n",
              "    </tr>\n",
              "  </thead>\n",
              "  <tbody>\n",
              "    <tr>\n",
              "      <th>Positive</th>\n",
              "      <td>True Positive (TP)</td>\n",
              "      <td>True Negative (TN)</td>\n",
              "    </tr>\n",
              "    <tr>\n",
              "      <th>Negative</th>\n",
              "      <td>False Negative (FN)</td>\n",
              "      <td>False Positive (FP)</td>\n",
              "    </tr>\n",
              "  </tbody>\n",
              "</table>\n",
              "</div>"
            ],
            "text/plain": [
              "                      Positive             Negative\n",
              "Predicted                                          \n",
              "Positive    True Positive (TP)   True Negative (TN)\n",
              "Negative   False Negative (FN)  False Positive (FP)"
            ]
          },
          "execution_count": 38,
          "metadata": {},
          "output_type": "execute_result"
        }
      ],
      "source": [
        "pd.DataFrame({'Positive':['True Positive (TP)','False Negative (FN)'],'Negative':['True Negative (TN)','False Positive (FP)'],'Predicted':['Positive','Negative']},index=['Positive','Negative']).set_index('Predicted')"
      ]
    },
    {
      "cell_type": "markdown",
      "metadata": {
        "id": "vksusRNeruMe"
      },
      "source": [
        "We also define 4 metrics to evaluate the chosen model.\n",
        "$$ Accuracy = \\frac{TP+TF}{TP+TF+FP+FN}$$\n",
        "$$ Precision = \\frac{TP}{TP+FP} $$\n",
        "$$ Recall = \\frac{TP}{TP+FN} $$\n",
        "$$ F1 = \\frac{2*Precision*Recall}{Precision+Recall} = \\frac{2*TP}{2*TP+FP+FN} $$"
      ]
    },
    {
      "cell_type": "markdown",
      "metadata": {},
      "source": [
        "In our case, we'd like to have the less False Negative posible."
      ]
    },
    {
      "cell_type": "code",
      "execution_count": 39,
      "metadata": {
        "id": "up9thhrln0oU"
      },
      "outputs": [],
      "source": [
        "from sklearn.metrics import accuracy_score, recall_score, precision_score, f1_score, confusion_matrix, ConfusionMatrixDisplay\n",
        "\n",
        "def score(X_train,X_test,y_train, y_test,model):\n",
        "  y_pred_test = model.predict(X_test)\n",
        "  y_pred_train = model.predict(X_train)\n",
        "\n",
        "  accuracy_train = accuracy_score(y_train,y_pred_train)\n",
        "  accuracy_test = accuracy_score(y_test,y_pred_test)\n",
        "\n",
        "  recall_train = recall_score(y_train,y_pred_train)\n",
        "  recall_test = recall_score(y_test,y_pred_test)\n",
        "\n",
        "  precision_train = precision_score(y_train,y_pred_train)\n",
        "  precision_test = precision_score(y_test,y_pred_test)\n",
        "\n",
        "  f1_train = f1_score(y_train,y_pred_train)\n",
        "  f1_test = f1_score(y_test,y_pred_test)\n",
        "\n",
        "  print(\"Accuracy on training set:\", accuracy_train)\n",
        "  print(\"Accuracy on validation set:\", accuracy_test)\n",
        "  print(\"-----------------------\")\n",
        "  print(\"Recall on training set:\", recall_train)\n",
        "  print(\"Recall on validation set:\", recall_test)\n",
        "  print(\"-----------------------\")\n",
        "  print(\"Precision on training set:\", precision_train)\n",
        "  print(\"Precision on validation set:\", precision_test)\n",
        "  print(\"-----------------------\")\n",
        "  print(\"F1-score on training set:\", f1_train)\n",
        "  print(\"F1-score on validation set:\", f1_test)\n",
        "\n",
        "  disp = ConfusionMatrixDisplay(confusion_matrix(y_test,model.predict(X_test)))\n",
        "  disp.plot()\n",
        "  plt.show()"
      ]
    },
    {
      "cell_type": "code",
      "execution_count": 40,
      "metadata": {
        "id": "RstLJlHNnwzy"
      },
      "outputs": [
        {
          "name": "stdout",
          "output_type": "stream",
          "text": [
            "Accuracy on training set: 0.7844669117647058\n",
            "Accuracy on validation set: 0.7881200244947949\n",
            "-----------------------\n",
            "Recall on training set: 0.3879210220673635\n",
            "Recall on validation set: 0.39443155452436196\n",
            "-----------------------\n",
            "Precision on training set: 0.6542605288932419\n",
            "Precision on validation set: 0.6666666666666666\n",
            "-----------------------\n",
            "F1-score on training set: 0.4870579657309515\n",
            "F1-score on validation set: 0.4956268221574345\n"
          ]
        },
        {
          "data": {
            "image/png": "[encoded data removed]",
            "text/plain": [
              "<Figure size 432x288 with 2 Axes>"
            ]
          },
          "metadata": {
            "needs_background": "light"
          },
          "output_type": "display_data"
        }
      ],
      "source": [
        "from sklearn.linear_model import LogisticRegression\n",
        "\n",
        "reglog = LogisticRegression()\n",
        "reglog.fit(X_train, y_train)\n",
        "score(X_train, X_val, y_train, y_val, reglog)"
      ]
    },
    {
      "cell_type": "markdown",
      "metadata": {},
      "source": [
        "There is underfitting"
      ]
    },
    {
      "cell_type": "code",
      "execution_count": 41,
      "metadata": {
        "id": "nn4YR49TjkDR"
      },
      "outputs": [
        {
          "name": "stdout",
          "output_type": "stream",
          "text": [
            "Accuracy on training set: 0.8253676470588235\n",
            "Accuracy on validation set: 0.7605633802816901\n",
            "-----------------------\n",
            "Recall on training set: 0.5272938443670151\n",
            "Recall on validation set: 0.41531322505800466\n",
            "-----------------------\n",
            "Precision on training set: 0.7358184764991896\n",
            "Precision on validation set: 0.5628930817610063\n",
            "-----------------------\n",
            "F1-score on training set: 0.6143437077131259\n",
            "F1-score on validation set: 0.4779706275033378\n"
          ]
        },
        {
          "data": {
            "image/png": "[encoded data removed]",
            "text/plain": [
              "<Figure size 432x288 with 2 Axes>"
            ]
          },
          "metadata": {
            "needs_background": "light"
          },
          "output_type": "display_data"
        }
      ],
      "source": [
        "from sklearn.neighbors import KNeighborsClassifier\n",
        "\n",
        "knn = KNeighborsClassifier()\n",
        "knn.fit(X_train, y_train)\n",
        "score(X_train, X_val, y_train, y_val, knn)"
      ]
    },
    {
      "cell_type": "code",
      "execution_count": 42,
      "metadata": {},
      "outputs": [
        {
          "name": "stdout",
          "output_type": "stream",
          "text": [
            "{'max_depth': 10, 'min_samples_leaf': 5, 'min_samples_split': 2}\n",
            "Accuracy on training set: 0.8468137254901961\n",
            "Accuracy on validation set: 0.7893447642375995\n",
            "-----------------------\n",
            "Recall on training set: 0.4732868757259001\n",
            "Recall on validation set: 0.33642691415313225\n",
            "-----------------------\n",
            "Precision on training set: 0.8975770925110133\n",
            "Precision on validation set: 0.7142857142857143\n",
            "-----------------------\n",
            "F1-score on training set: 0.6197718631178707\n",
            "F1-score on validation set: 0.45741324921135645\n"
          ]
        },
        {
          "data": {
            "image/png": "[encoded data removed]",
            "text/plain": [
              "<Figure size 432x288 with 2 Axes>"
            ]
          },
          "metadata": {
            "needs_background": "light"
          },
          "output_type": "display_data"
        }
      ],
      "source": [
        "from sklearn.ensemble import RandomForestClassifier\n",
        "from sklearn.model_selection import GridSearchCV\n",
        "\n",
        "clf = RandomForestClassifier()\n",
        "#n_estimators = 100,max_features ='log2' ,class_weight='balanced_subsample'\n",
        "\n",
        "param_grid = {\n",
        "    \"max_depth\": [3,5,10,15,20,None],\n",
        "    \"min_samples_split\": [2,5,7,10],\n",
        "    \"min_samples_leaf\": [1,2,5]\n",
        "}\n",
        "\n",
        "grid_cv_clf = GridSearchCV(clf, param_grid, scoring=\"roc_auc\", n_jobs=-1, cv=5).fit(X_train, y_train)\n",
        "print(grid_cv_clf.best_params_)\n",
        "score(X_train, X_val, y_train, y_val, grid_cv_clf)"
      ]
    },
    {
      "cell_type": "markdown",
      "metadata": {},
      "source": [
        "There is overfitting"
      ]
    },
    {
      "cell_type": "code",
      "execution_count": 43,
      "metadata": {},
      "outputs": [
        {
          "name": "stdout",
          "output_type": "stream",
          "text": [
            "Accuracy on training set: 0.7832414215686274\n",
            "Accuracy on validation set: 0.7844458052663809\n",
            "-----------------------\n",
            "Recall on training set: 0.3548199767711963\n",
            "Recall on validation set: 0.35730858468677495\n",
            "-----------------------\n",
            "Precision on training set: 0.66775956284153\n",
            "Precision on validation set: 0.6724890829694323\n",
            "-----------------------\n",
            "F1-score on training set: 0.4634053849070914\n",
            "F1-score on validation set: 0.4666666666666667\n"
          ]
        },
        {
          "data": {
            "image/png": "[encoded data removed]",
            "text/plain": [
              "<Figure size 432x288 with 2 Axes>"
            ]
          },
          "metadata": {
            "needs_background": "light"
          },
          "output_type": "display_data"
        }
      ],
      "source": [
        "from sklearn.svm import LinearSVC \n",
        "\n",
        "lsvc = LinearSVC()\n",
        "lsvc.fit(X_train,y_train)\n",
        "score(X_train, X_val, y_train, y_val, lsvc)"
      ]
    },
    {
      "cell_type": "markdown",
      "metadata": {},
      "source": [
        "There is underfitting..."
      ]
    },
    {
      "cell_type": "code",
      "execution_count": 44,
      "metadata": {},
      "outputs": [
        {
          "name": "stdout",
          "output_type": "stream",
          "text": [
            "{'C': 1, 'gamma': 0.01}\n",
            "Accuracy on training set: 0.7003676470588235\n",
            "Accuracy on validation set: 0.6968769136558481\n",
            "-----------------------\n",
            "Recall on training set: 0.8002322880371661\n",
            "Recall on validation set: 0.7842227378190255\n",
            "-----------------------\n",
            "Precision on training set: 0.4608695652173913\n",
            "Precision on validation set: 0.45675675675675675\n",
            "-----------------------\n",
            "F1-score on training set: 0.5848896434634976\n",
            "F1-score on validation set: 0.5772843723313407\n"
          ]
        },
        {
          "data": {
            "image/png": "[encoded data removed]",
            "text/plain": [
              "<Figure size 432x288 with 2 Axes>"
            ]
          },
          "metadata": {
            "needs_background": "light"
          },
          "output_type": "display_data"
        }
      ],
      "source": [
        "from sklearn.svm import SVC \n",
        "\n",
        "svc = SVC(class_weight='balanced',probability=True)\n",
        "\n",
        "param_grid = {\n",
        "    \"C\": [0.01,0.1,1,10],\n",
        "    \"gamma\": [0.001, 0.01, 0.1, 1]\n",
        "}\n",
        "\n",
        "grid_cv_svc = GridSearchCV(svc, param_grid, scoring=\"roc_auc\", n_jobs=-1, cv=5).fit(X_train, y_train)\n",
        "print(grid_cv_svc.best_params_)\n",
        "score(X_train, X_val, y_train, y_val, grid_cv_svc)"
      ]
    },
    {
      "cell_type": "markdown",
      "metadata": {},
      "source": [
        "The results are different. We have way more predictions of 1, but a lot less of False Negative, which is great !"
      ]
    },
    {
      "cell_type": "markdown",
      "metadata": {
        "id": "ViWgKaiAuJsn"
      },
      "source": [
        "Let's look at the ROC curve."
      ]
    },
    {
      "cell_type": "code",
      "execution_count": 45,
      "metadata": {
        "id": "ODASWIGpoBbk"
      },
      "outputs": [
        {
          "name": "stdout",
          "output_type": "stream",
          "text": [
            "AUC: 0.8020150097864734\n"
          ]
        },
        {
          "data": {
            "image/png": "[encoded data removed]",
            "text/plain": [
              "<Figure size 432x288 with 1 Axes>"
            ]
          },
          "metadata": {
            "needs_background": "light"
          },
          "output_type": "display_data"
        }
      ],
      "source": [
        "from sklearn.metrics import roc_curve, auc, plot_roc_curve, roc_auc_score\n",
        "false_positive_rate, true_positive_rate, thresholds = roc_curve(y_val, grid_cv_svc.predict(X_val))\n",
        "roc_auc = auc(false_positive_rate, true_positive_rate)\n",
        "\n",
        "print(\"AUC:\",roc_auc_score(y_val, grid_cv_svc.predict_proba(X_val)[:,1]))\n",
        "ax = plt.gca()\n",
        "model_disp_train = plot_roc_curve(grid_cv_svc, X_train, y_train, ax=ax, alpha=0.8,name='Train')\n",
        "model_disp_test = plot_roc_curve(grid_cv_svc, X_val, y_val, ax=ax, alpha=0.8,name='Validation')\n",
        "plt.show()"
      ]
    },
    {
      "cell_type": "markdown",
      "metadata": {},
      "source": [
        "The results are not very good at the end of the day."
      ]
    },
    {
      "cell_type": "markdown",
      "metadata": {},
      "source": [
        "## Predict on test data"
      ]
    },
    {
      "cell_type": "code",
      "execution_count": 46,
      "metadata": {},
      "outputs": [],
      "source": [
        "df_test = pd.read_csv('data\\test_auto.csv')"
      ]
    },
    {
      "cell_type": "markdown",
      "metadata": {},
      "source": [
        "We make transformation to our dataset."
      ]
    },
    {
      "cell_type": "code",
      "execution_count": 47,
      "metadata": {},
      "outputs": [],
      "source": [
        "def data_for_ml_2(df_test):\n",
        "\n",
        "    df_test.drop(columns=['TARGET_AMT','TARGET_FLAG'],inplace=True)\n",
        "\n",
        "    for column_name in ['EDUCATION','MSTATUS','JOB','CAR_TYPE','URBANICITY']:\n",
        "        df_test[column_name] = df_test.apply(lambda row : remove_z(row,column_name),axis=1)\n",
        "    del(column_name)\n",
        "\n",
        "    df_test.replace({'Yes':1,'No':0,'M':1,'F':0,'yes':1,'no':0,'z_F':0},inplace=True)\n",
        "\n",
        "    df_test['INCOME'] = df_test.apply(lambda row : from_dollar_string_to_float(row,'INCOME'),axis=1)\n",
        "    df_test['HOME_VAL'] = df_test.apply(lambda row : from_dollar_string_to_float(row,'HOME_VAL'),axis=1)\n",
        "    df_test['BLUEBOOK'] = df_test.apply(lambda row : from_dollar_string_to_float(row,'BLUEBOOK'),axis=1)\n",
        "    df_test['OLDCLAIM'] = df_test.apply(lambda row : from_dollar_string_to_float(row,'OLDCLAIM'),axis=1)\n",
        "\n",
        "    df_for_imputer_test = pd.get_dummies(df_test.drop(columns=['INDEX']),columns=columns_to_dummy)\n",
        "    df_without_nan_test = pd.DataFrame(imputer.transform(df_for_imputer_test) ,columns=df_for_imputer_test.columns)\n",
        "    df_clean_test = df_without_nan_test[df.drop(columns=columns_to_dummy+columns_to_drop).columns]\n",
        "    for column_name in columns_to_dummy :\n",
        "        df_clean_test[column_name] = df_without_nan_test[df_without_nan_test.columns[np.char.startswith(list(df_without_nan_test.columns),column_name)]].idxmax(axis=1).apply(lambda x : x[len(column_name)+1:])\n",
        "    \n",
        "    return df_clean_test"
      ]
    },
    {
      "cell_type": "code",
      "execution_count": 48,
      "metadata": {},
      "outputs": [],
      "source": [
        "df_clean_test = data_for_ml_2(df_test)\n",
        "df_clean_test = data_for_ml(df_clean_test)\n",
        "X_test = scaler.transform(df_clean_test)"
      ]
    },
    {
      "cell_type": "markdown",
      "metadata": {},
      "source": [
        "We predict"
      ]
    },
    {
      "cell_type": "code",
      "execution_count": 53,
      "metadata": {},
      "outputs": [],
      "source": [
        "y_test_pred = grid_cv_svc.predict(X_test)\n",
        "y_test_pred_proba = grid_cv_svc.predict_proba(X_test)"
      ]
    },
    {
      "cell_type": "markdown",
      "metadata": {},
      "source": [
        "and save in csv"
      ]
    },
    {
      "cell_type": "code",
      "execution_count": 58,
      "metadata": {},
      "outputs": [
        {
          "data": {
            "text/plain": [
              "0           3\n",
              "1           9\n",
              "2          10\n",
              "3          18\n",
              "4          21\n",
              "        ...  \n",
              "2136    10279\n",
              "2137    10281\n",
              "2138    10285\n",
              "2139    10294\n",
              "2140    10300\n",
              "Name: INDEX, Length: 2141, dtype: int64"
            ]
          },
          "execution_count": 58,
          "metadata": {},
          "output_type": "execute_result"
        }
      ],
      "source": [
        "df_test['INDEX']"
      ]
    },
    {
      "cell_type": "code",
      "execution_count": 61,
      "metadata": {},
      "outputs": [
        {
          "data": {
            "text/html": [
              "<div>\n",
              "<style scoped>\n",
              "    .dataframe tbody tr th:only-of-type {\n",
              "        vertical-align: middle;\n",
              "    }\n",
              "\n",
              "    .dataframe tbody tr th {\n",
              "        vertical-align: top;\n",
              "    }\n",
              "\n",
              "    .dataframe thead th {\n",
              "        text-align: right;\n",
              "    }\n",
              "</style>\n",
              "<table border=\"1\" class=\"dataframe\">\n",
              "  <thead>\n",
              "    <tr style=\"text-align: right;\">\n",
              "      <th></th>\n",
              "      <th>index</th>\n",
              "      <th>p_target</th>\n",
              "    </tr>\n",
              "  </thead>\n",
              "  <tbody>\n",
              "    <tr>\n",
              "      <th>0</th>\n",
              "      <td>3</td>\n",
              "      <td>0</td>\n",
              "    </tr>\n",
              "    <tr>\n",
              "      <th>1</th>\n",
              "      <td>9</td>\n",
              "      <td>1</td>\n",
              "    </tr>\n",
              "    <tr>\n",
              "      <th>2</th>\n",
              "      <td>10</td>\n",
              "      <td>0</td>\n",
              "    </tr>\n",
              "    <tr>\n",
              "      <th>3</th>\n",
              "      <td>18</td>\n",
              "      <td>0</td>\n",
              "    </tr>\n",
              "    <tr>\n",
              "      <th>4</th>\n",
              "      <td>21</td>\n",
              "      <td>1</td>\n",
              "    </tr>\n",
              "    <tr>\n",
              "      <th>...</th>\n",
              "      <td>...</td>\n",
              "      <td>...</td>\n",
              "    </tr>\n",
              "    <tr>\n",
              "      <th>2136</th>\n",
              "      <td>10279</td>\n",
              "      <td>0</td>\n",
              "    </tr>\n",
              "    <tr>\n",
              "      <th>2137</th>\n",
              "      <td>10281</td>\n",
              "      <td>0</td>\n",
              "    </tr>\n",
              "    <tr>\n",
              "      <th>2138</th>\n",
              "      <td>10285</td>\n",
              "      <td>0</td>\n",
              "    </tr>\n",
              "    <tr>\n",
              "      <th>2139</th>\n",
              "      <td>10294</td>\n",
              "      <td>1</td>\n",
              "    </tr>\n",
              "    <tr>\n",
              "      <th>2140</th>\n",
              "      <td>10300</td>\n",
              "      <td>0</td>\n",
              "    </tr>\n",
              "  </tbody>\n",
              "</table>\n",
              "<p>2141 rows × 2 columns</p>\n",
              "</div>"
            ],
            "text/plain": [
              "      index  p_target\n",
              "0         3         0\n",
              "1         9         1\n",
              "2        10         0\n",
              "3        18         0\n",
              "4        21         1\n",
              "...     ...       ...\n",
              "2136  10279         0\n",
              "2137  10281         0\n",
              "2138  10285         0\n",
              "2139  10294         1\n",
              "2140  10300         0\n",
              "\n",
              "[2141 rows x 2 columns]"
            ]
          },
          "execution_count": 61,
          "metadata": {},
          "output_type": "execute_result"
        }
      ],
      "source": [
        "df_pred_test = pd.concat([df_test['INDEX'],pd.DataFrame(y_test_pred,columns=['p_target'],index=df_test.index)],axis=1).rename(columns={'INDEX':'index'})\n",
        "df_pred_test.to_csv('predictions.csv',index=False)\n",
        "df_pred_test"
      ]
    }
  ],
  "metadata": {
    "colab": {
      "collapsed_sections": [],
      "name": "Template",
      "provenance": []
    },
    "kernelspec": {
      "display_name": "Python 3",
      "name": "python3"
    },
    "language_info": {
      "codemirror_mode": {
        "name": "ipython",
        "version": 3
      },
      "file_extension": ".py",
      "mimetype": "text/x-python",
      "name": "python",
      "nbconvert_exporter": "python",
      "pygments_lexer": "ipython3",
      "version": "3.7.5"
    }
  },
  "nbformat": 4,
  "nbformat_minor": 0
}
